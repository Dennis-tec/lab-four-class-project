{
 "cells": [
  {
   "cell_type": "markdown",
   "metadata": {},
   "source": [
    "# Lab 4: Using Supernovae Data to Demonstrate the Universe is Accelerating\n",
    "Written by Andrea Lommen, Haverford College, March, 2018, edited for March 2020\n",
    "with gratitude to Nobel Laureate Adam Riess for sharing his data.\n"
   ]
  },
  {
   "cell_type": "markdown",
   "metadata": {},
   "source": [
    "## Goals of this lab\n",
    "\n",
    "You will:\n",
    "\n",
    "* Use Nobel Award winning supernovae data to demonstrate that the universe is not only expanding, but accelerating.\n",
    "* Fit a curve to data.\n",
    "* Understand slope and derivatives of functions.  In particular you'll connect results of np.polyfit to the familiar y = mx+b that many of you may remember.\n",
    "* Understand polynomials.\n",
    "* Connect the fitting of a curve of velocity vs distance to the acceleration of the universe\n",
    "* Use residuals to judge how good a model fit is.\n",
    "* Use approximations, and determine under what conditions they are true.\n",
    "* Practice using read_csv again, setting the delimeter, renaming columns.\n",
    "* be forced to be efficient in your code.  I've started to put limits on how many lines of code you write.  To stay within my limits you'll have to keep using \"allSN\" (which you'll create shortly) as an \"object\".  So when you want to use a particular column of allSN, for example \"redshift\" you'll need to use \"allSN.redshift\" without setting that equal to something else.\n",
    "* spend some time _not_ writing functions, so you start to get wiser about when you need a function and when you don't. "
   ]
  },
  {
   "cell_type": "markdown",
   "metadata": {},
   "source": [
    "The data table found in /homes/astro/PHY104 is called\n",
    "full_list6intmag.origsnls.zp.tex\n",
    "and is from this manuscript, from which you should read the abstract, the introduction, and the text around the table we are using (Table 4) which includes\n",
    "http://adsabs.harvard.edu/abs/2007ApJ...659...98R\n",
    "\n",
    "Adam Riess and his collaborators won the Nobel Prize for this work. \n",
    "\n",
    "Watch his 27-minute Nobel lecture here:\n",
    "https://www.nobelprize.org/nobel_prizes/physics/laureates/2011/riess-lecture.html"
   ]
  },
  {
   "cell_type": "markdown",
   "metadata": {},
   "source": [
    "### Step 1: Read in Adam's table into an object called \"allSN\", i.e.\n",
    "Use a command like:\n",
    "```\n",
    "allSN = pd.read_csv(.....)\n",
    "```\n",
    "I've imported the libraries you need below.  Here are my hints about\n",
    "using the pd.read_csv function. The file is called \n",
    "\"/homes/astro/PHY104/full_list6intmag.origsnls.zp.tex\"\n",
    "You need to set delimiter equal to something \n",
    "(**delimeter = \"?\"**) to get this to work.  \n",
    "\n",
    "Take a look at the file itself to see what character\n",
    "you should use as the delimeter.  The easiest way to do that is open\n",
    "up a terminal and say\n",
    "```\n",
    "more /homes/astro/PHY104/full_list6intmag.origsnls.zp.tex\n",
    "```\n",
    "From there the spacebar will advance the file and \"q\" will bring you back to the prompt.\n",
    "\n",
    "(**Keep the command \"more\" in mind as you're working with the CSV's in your projects.**)\n",
    "\n",
    "Finally, you need **header=None** in your list of what you pass\n",
    "to read_csv because this file has no header.\n",
    "\n",
    "Putting that all together, your read statement will look kinda\n",
    "like this:\n",
    "```\n",
    "allSN = pd.read_csv(\"filename.blah.blah.blah\", delimiter='?', header=None)\n",
    "```"
   ]
  },
  {
   "cell_type": "code",
   "execution_count": 1,
   "metadata": {},
   "outputs": [],
   "source": [
    "import pandas as pd\n",
    "import numpy as np\n",
    "import matplotlib.pyplot as plt"
   ]
  },
  {
   "cell_type": "code",
   "execution_count": 2,
   "metadata": {},
   "outputs": [],
   "source": [
    "#(1)  Read in the CSV (1 point)\n",
    "allSN = pd.read_csv(\"/homes/astro/PHY104/full_list6intmag.origsnls.zp.tex\", delimiter='&', header=None)"
   ]
  },
  {
   "cell_type": "code",
   "execution_count": 3,
   "metadata": {},
   "outputs": [
    {
     "data": {
      "text/html": [
       "<div>\n",
       "<style scoped>\n",
       "    .dataframe tbody tr th:only-of-type {\n",
       "        vertical-align: middle;\n",
       "    }\n",
       "\n",
       "    .dataframe tbody tr th {\n",
       "        vertical-align: top;\n",
       "    }\n",
       "\n",
       "    .dataframe thead th {\n",
       "        text-align: right;\n",
       "    }\n",
       "</style>\n",
       "<table border=\"1\" class=\"dataframe\">\n",
       "  <thead>\n",
       "    <tr style=\"text-align: right;\">\n",
       "      <th></th>\n",
       "      <th>0</th>\n",
       "      <th>1</th>\n",
       "      <th>2</th>\n",
       "      <th>3</th>\n",
       "      <th>4</th>\n",
       "      <th>5</th>\n",
       "    </tr>\n",
       "  </thead>\n",
       "  <tbody>\n",
       "    <tr>\n",
       "      <th>0</th>\n",
       "      <td>SN 90O</td>\n",
       "      <td>0.030</td>\n",
       "      <td>35.90</td>\n",
       "      <td>0.21</td>\n",
       "      <td>----</td>\n",
       "      <td>Gold \\nl</td>\n",
       "    </tr>\n",
       "    <tr>\n",
       "      <th>1</th>\n",
       "      <td>SN 90T</td>\n",
       "      <td>0.040</td>\n",
       "      <td>36.38</td>\n",
       "      <td>0.20</td>\n",
       "      <td>----</td>\n",
       "      <td>Gold \\nl</td>\n",
       "    </tr>\n",
       "    <tr>\n",
       "      <th>2</th>\n",
       "      <td>SN 90af</td>\n",
       "      <td>0.050</td>\n",
       "      <td>36.84</td>\n",
       "      <td>0.22</td>\n",
       "      <td>----</td>\n",
       "      <td>Gold \\nl</td>\n",
       "    </tr>\n",
       "    <tr>\n",
       "      <th>3</th>\n",
       "      <td>SN 91ag</td>\n",
       "      <td>0.014</td>\n",
       "      <td>34.13</td>\n",
       "      <td>0.29</td>\n",
       "      <td>----</td>\n",
       "      <td>Gold \\nl</td>\n",
       "    </tr>\n",
       "    <tr>\n",
       "      <th>4</th>\n",
       "      <td>SN 91U</td>\n",
       "      <td>0.033</td>\n",
       "      <td>35.53</td>\n",
       "      <td>0.21</td>\n",
       "      <td>----</td>\n",
       "      <td>Gold \\nl</td>\n",
       "    </tr>\n",
       "    <tr>\n",
       "      <th>5</th>\n",
       "      <td>SN 91S</td>\n",
       "      <td>0.056</td>\n",
       "      <td>37.31</td>\n",
       "      <td>0.19</td>\n",
       "      <td>----</td>\n",
       "      <td>Gold \\nl</td>\n",
       "    </tr>\n",
       "    <tr>\n",
       "      <th>6</th>\n",
       "      <td>SN 92al</td>\n",
       "      <td>0.014</td>\n",
       "      <td>34.12</td>\n",
       "      <td>0.29</td>\n",
       "      <td>----</td>\n",
       "      <td>Gold \\nl</td>\n",
       "    </tr>\n",
       "    <tr>\n",
       "      <th>7</th>\n",
       "      <td>SN 92bo</td>\n",
       "      <td>0.017</td>\n",
       "      <td>34.70</td>\n",
       "      <td>0.26</td>\n",
       "      <td>----</td>\n",
       "      <td>Gold \\nl</td>\n",
       "    </tr>\n",
       "    <tr>\n",
       "      <th>8</th>\n",
       "      <td>SN 92bc</td>\n",
       "      <td>0.018</td>\n",
       "      <td>34.96</td>\n",
       "      <td>0.25</td>\n",
       "      <td>----</td>\n",
       "      <td>Gold \\nl</td>\n",
       "    </tr>\n",
       "    <tr>\n",
       "      <th>9</th>\n",
       "      <td>SN 92ag</td>\n",
       "      <td>0.026</td>\n",
       "      <td>35.06</td>\n",
       "      <td>0.25</td>\n",
       "      <td>----</td>\n",
       "      <td>Silver \\nl</td>\n",
       "    </tr>\n",
       "    <tr>\n",
       "      <th>10</th>\n",
       "      <td>SN 92P</td>\n",
       "      <td>0.026</td>\n",
       "      <td>35.63</td>\n",
       "      <td>0.22</td>\n",
       "      <td>----</td>\n",
       "      <td>Gold \\nl</td>\n",
       "    </tr>\n",
       "    <tr>\n",
       "      <th>11</th>\n",
       "      <td>SN 92bg</td>\n",
       "      <td>0.036</td>\n",
       "      <td>36.17</td>\n",
       "      <td>0.20</td>\n",
       "      <td>----</td>\n",
       "      <td>Gold \\nl</td>\n",
       "    </tr>\n",
       "    <tr>\n",
       "      <th>12</th>\n",
       "      <td>SN 92bl</td>\n",
       "      <td>0.043</td>\n",
       "      <td>36.52</td>\n",
       "      <td>0.19</td>\n",
       "      <td>----</td>\n",
       "      <td>Gold \\nl</td>\n",
       "    </tr>\n",
       "    <tr>\n",
       "      <th>13</th>\n",
       "      <td>SN 92bh</td>\n",
       "      <td>0.045</td>\n",
       "      <td>36.99</td>\n",
       "      <td>0.18</td>\n",
       "      <td>----</td>\n",
       "      <td>Gold \\nl</td>\n",
       "    </tr>\n",
       "    <tr>\n",
       "      <th>14</th>\n",
       "      <td>SN 92J</td>\n",
       "      <td>0.046</td>\n",
       "      <td>36.35</td>\n",
       "      <td>0.21</td>\n",
       "      <td>----</td>\n",
       "      <td>Gold \\nl</td>\n",
       "    </tr>\n",
       "    <tr>\n",
       "      <th>15</th>\n",
       "      <td>SN 92bk</td>\n",
       "      <td>0.058</td>\n",
       "      <td>37.13</td>\n",
       "      <td>0.19</td>\n",
       "      <td>----</td>\n",
       "      <td>Gold \\nl</td>\n",
       "    </tr>\n",
       "    <tr>\n",
       "      <th>16</th>\n",
       "      <td>SN 92au</td>\n",
       "      <td>0.061</td>\n",
       "      <td>37.31</td>\n",
       "      <td>0.22</td>\n",
       "      <td>----</td>\n",
       "      <td>Gold \\nl</td>\n",
       "    </tr>\n",
       "    <tr>\n",
       "      <th>17</th>\n",
       "      <td>SN 92bs</td>\n",
       "      <td>0.063</td>\n",
       "      <td>37.67</td>\n",
       "      <td>0.19</td>\n",
       "      <td>----</td>\n",
       "      <td>Gold \\nl</td>\n",
       "    </tr>\n",
       "    <tr>\n",
       "      <th>18</th>\n",
       "      <td>SN 92ae</td>\n",
       "      <td>0.075</td>\n",
       "      <td>37.77</td>\n",
       "      <td>0.19</td>\n",
       "      <td>----</td>\n",
       "      <td>Gold \\nl</td>\n",
       "    </tr>\n",
       "    <tr>\n",
       "      <th>19</th>\n",
       "      <td>SN 92bp</td>\n",
       "      <td>0.079</td>\n",
       "      <td>37.94</td>\n",
       "      <td>0.18</td>\n",
       "      <td>----</td>\n",
       "      <td>Gold \\nl</td>\n",
       "    </tr>\n",
       "    <tr>\n",
       "      <th>20</th>\n",
       "      <td>SN 92br</td>\n",
       "      <td>0.088</td>\n",
       "      <td>38.07</td>\n",
       "      <td>0.28</td>\n",
       "      <td>----</td>\n",
       "      <td>Gold \\nl</td>\n",
       "    </tr>\n",
       "    <tr>\n",
       "      <th>21</th>\n",
       "      <td>SN 92aq</td>\n",
       "      <td>0.101</td>\n",
       "      <td>38.70</td>\n",
       "      <td>0.20</td>\n",
       "      <td>----</td>\n",
       "      <td>Gold \\nl</td>\n",
       "    </tr>\n",
       "    <tr>\n",
       "      <th>22</th>\n",
       "      <td>SN 93ae</td>\n",
       "      <td>0.018</td>\n",
       "      <td>34.29</td>\n",
       "      <td>0.25</td>\n",
       "      <td>----</td>\n",
       "      <td>Gold \\nl</td>\n",
       "    </tr>\n",
       "    <tr>\n",
       "      <th>23</th>\n",
       "      <td>SN 93H</td>\n",
       "      <td>0.025</td>\n",
       "      <td>35.09</td>\n",
       "      <td>0.22</td>\n",
       "      <td>----</td>\n",
       "      <td>Gold \\nl</td>\n",
       "    </tr>\n",
       "    <tr>\n",
       "      <th>24</th>\n",
       "      <td>SN 93ah</td>\n",
       "      <td>0.028</td>\n",
       "      <td>35.53</td>\n",
       "      <td>0.22</td>\n",
       "      <td>----</td>\n",
       "      <td>Gold \\nl</td>\n",
       "    </tr>\n",
       "    <tr>\n",
       "      <th>25</th>\n",
       "      <td>SN 93ac</td>\n",
       "      <td>0.049</td>\n",
       "      <td>36.90</td>\n",
       "      <td>0.21</td>\n",
       "      <td>----</td>\n",
       "      <td>Silver \\nl</td>\n",
       "    </tr>\n",
       "    <tr>\n",
       "      <th>26</th>\n",
       "      <td>SN 93ag</td>\n",
       "      <td>0.050</td>\n",
       "      <td>37.07</td>\n",
       "      <td>0.19</td>\n",
       "      <td>----</td>\n",
       "      <td>Gold \\nl</td>\n",
       "    </tr>\n",
       "    <tr>\n",
       "      <th>27</th>\n",
       "      <td>SN 93O</td>\n",
       "      <td>0.052</td>\n",
       "      <td>37.16</td>\n",
       "      <td>0.18</td>\n",
       "      <td>----</td>\n",
       "      <td>Gold \\nl</td>\n",
       "    </tr>\n",
       "    <tr>\n",
       "      <th>28</th>\n",
       "      <td>SN 93B</td>\n",
       "      <td>0.071</td>\n",
       "      <td>37.78</td>\n",
       "      <td>0.19</td>\n",
       "      <td>----</td>\n",
       "      <td>Gold \\nl</td>\n",
       "    </tr>\n",
       "    <tr>\n",
       "      <th>29</th>\n",
       "      <td>SN 94S</td>\n",
       "      <td>0.016</td>\n",
       "      <td>34.50</td>\n",
       "      <td>0.27</td>\n",
       "      <td>----</td>\n",
       "      <td>Gold \\nl</td>\n",
       "    </tr>\n",
       "    <tr>\n",
       "      <th>...</th>\n",
       "      <td>...</td>\n",
       "      <td>...</td>\n",
       "      <td>...</td>\n",
       "      <td>...</td>\n",
       "      <td>...</td>\n",
       "      <td>...</td>\n",
       "    </tr>\n",
       "    <tr>\n",
       "      <th>263</th>\n",
       "      <td>SN SNLS-04D2ja</td>\n",
       "      <td>0.741</td>\n",
       "      <td>43.61</td>\n",
       "      <td>0.20</td>\n",
       "      <td>----</td>\n",
       "      <td>Silver \\nl</td>\n",
       "    </tr>\n",
       "    <tr>\n",
       "      <th>264</th>\n",
       "      <td>SN SNLS-04D3co</td>\n",
       "      <td>0.620</td>\n",
       "      <td>43.21</td>\n",
       "      <td>0.18</td>\n",
       "      <td>----</td>\n",
       "      <td>Gold \\nl</td>\n",
       "    </tr>\n",
       "    <tr>\n",
       "      <th>265</th>\n",
       "      <td>SN SNLS-04D3cp</td>\n",
       "      <td>0.830</td>\n",
       "      <td>44.60</td>\n",
       "      <td>0.38</td>\n",
       "      <td>----</td>\n",
       "      <td>Silver \\nl</td>\n",
       "    </tr>\n",
       "    <tr>\n",
       "      <th>266</th>\n",
       "      <td>SN SNLS-04D3cy</td>\n",
       "      <td>0.643</td>\n",
       "      <td>43.21</td>\n",
       "      <td>0.18</td>\n",
       "      <td>----</td>\n",
       "      <td>Gold \\nl</td>\n",
       "    </tr>\n",
       "    <tr>\n",
       "      <th>267</th>\n",
       "      <td>SN SNLS-04D3dd</td>\n",
       "      <td>1.010</td>\n",
       "      <td>44.86</td>\n",
       "      <td>0.55</td>\n",
       "      <td>----</td>\n",
       "      <td>Silver \\nl</td>\n",
       "    </tr>\n",
       "    <tr>\n",
       "      <th>268</th>\n",
       "      <td>SN SNLS-04D3df</td>\n",
       "      <td>0.470</td>\n",
       "      <td>42.45</td>\n",
       "      <td>0.17</td>\n",
       "      <td>----</td>\n",
       "      <td>Gold \\nl</td>\n",
       "    </tr>\n",
       "    <tr>\n",
       "      <th>269</th>\n",
       "      <td>SN SNLS-04D3do</td>\n",
       "      <td>0.610</td>\n",
       "      <td>42.98</td>\n",
       "      <td>0.17</td>\n",
       "      <td>----</td>\n",
       "      <td>Gold \\nl</td>\n",
       "    </tr>\n",
       "    <tr>\n",
       "      <th>270</th>\n",
       "      <td>SN SNLS-04D3ez</td>\n",
       "      <td>0.263</td>\n",
       "      <td>40.87</td>\n",
       "      <td>0.17</td>\n",
       "      <td>----</td>\n",
       "      <td>Gold \\nl</td>\n",
       "    </tr>\n",
       "    <tr>\n",
       "      <th>271</th>\n",
       "      <td>SN SNLS-04D3fk</td>\n",
       "      <td>0.358</td>\n",
       "      <td>41.66</td>\n",
       "      <td>0.17</td>\n",
       "      <td>----</td>\n",
       "      <td>Gold \\nl</td>\n",
       "    </tr>\n",
       "    <tr>\n",
       "      <th>272</th>\n",
       "      <td>SN SNLS-04D3fq</td>\n",
       "      <td>0.730</td>\n",
       "      <td>43.47</td>\n",
       "      <td>0.18</td>\n",
       "      <td>----</td>\n",
       "      <td>Gold \\nl</td>\n",
       "    </tr>\n",
       "    <tr>\n",
       "      <th>273</th>\n",
       "      <td>SN SNLS-04D3gt</td>\n",
       "      <td>0.451</td>\n",
       "      <td>42.22</td>\n",
       "      <td>0.17</td>\n",
       "      <td>----</td>\n",
       "      <td>Silver \\nl</td>\n",
       "    </tr>\n",
       "    <tr>\n",
       "      <th>274</th>\n",
       "      <td>SN SNLS-04D3gx</td>\n",
       "      <td>0.910</td>\n",
       "      <td>44.44</td>\n",
       "      <td>0.38</td>\n",
       "      <td>----</td>\n",
       "      <td>Silver \\nl</td>\n",
       "    </tr>\n",
       "    <tr>\n",
       "      <th>275</th>\n",
       "      <td>SN SNLS-04D3hn</td>\n",
       "      <td>0.552</td>\n",
       "      <td>42.65</td>\n",
       "      <td>0.17</td>\n",
       "      <td>----</td>\n",
       "      <td>Gold \\nl</td>\n",
       "    </tr>\n",
       "    <tr>\n",
       "      <th>276</th>\n",
       "      <td>SN SNLS-04D3is</td>\n",
       "      <td>0.710</td>\n",
       "      <td>43.36</td>\n",
       "      <td>0.18</td>\n",
       "      <td>----</td>\n",
       "      <td>Silver \\nl</td>\n",
       "    </tr>\n",
       "    <tr>\n",
       "      <th>277</th>\n",
       "      <td>SN SNLS-04D3ki</td>\n",
       "      <td>0.930</td>\n",
       "      <td>44.61</td>\n",
       "      <td>0.46</td>\n",
       "      <td>----</td>\n",
       "      <td>Silver \\nl</td>\n",
       "    </tr>\n",
       "    <tr>\n",
       "      <th>278</th>\n",
       "      <td>SN SNLS-04D3kr</td>\n",
       "      <td>0.337</td>\n",
       "      <td>41.44</td>\n",
       "      <td>0.17</td>\n",
       "      <td>----</td>\n",
       "      <td>Gold \\nl</td>\n",
       "    </tr>\n",
       "    <tr>\n",
       "      <th>279</th>\n",
       "      <td>SN SNLS-04D3ks</td>\n",
       "      <td>0.752</td>\n",
       "      <td>43.35</td>\n",
       "      <td>0.19</td>\n",
       "      <td>----</td>\n",
       "      <td>Silver \\nl</td>\n",
       "    </tr>\n",
       "    <tr>\n",
       "      <th>280</th>\n",
       "      <td>SN SNLS-04D3lp</td>\n",
       "      <td>0.983</td>\n",
       "      <td>44.13</td>\n",
       "      <td>0.52</td>\n",
       "      <td>----</td>\n",
       "      <td>Silver \\nl</td>\n",
       "    </tr>\n",
       "    <tr>\n",
       "      <th>281</th>\n",
       "      <td>SN SNLS-04D3lu</td>\n",
       "      <td>0.822</td>\n",
       "      <td>43.73</td>\n",
       "      <td>0.27</td>\n",
       "      <td>----</td>\n",
       "      <td>Gold \\nl</td>\n",
       "    </tr>\n",
       "    <tr>\n",
       "      <th>282</th>\n",
       "      <td>SN SNLS-04D3ml</td>\n",
       "      <td>0.950</td>\n",
       "      <td>44.14</td>\n",
       "      <td>0.31</td>\n",
       "      <td>----</td>\n",
       "      <td>Gold \\nl</td>\n",
       "    </tr>\n",
       "    <tr>\n",
       "      <th>283</th>\n",
       "      <td>SN SNLS-04D3nc</td>\n",
       "      <td>0.817</td>\n",
       "      <td>43.84</td>\n",
       "      <td>0.30</td>\n",
       "      <td>----</td>\n",
       "      <td>Silver \\nl</td>\n",
       "    </tr>\n",
       "    <tr>\n",
       "      <th>284</th>\n",
       "      <td>SN SNLS-04D3nh</td>\n",
       "      <td>0.340</td>\n",
       "      <td>41.51</td>\n",
       "      <td>0.17</td>\n",
       "      <td>----</td>\n",
       "      <td>Gold \\nl</td>\n",
       "    </tr>\n",
       "    <tr>\n",
       "      <th>285</th>\n",
       "      <td>SN SNLS-04D3nr</td>\n",
       "      <td>0.960</td>\n",
       "      <td>43.81</td>\n",
       "      <td>0.28</td>\n",
       "      <td>----</td>\n",
       "      <td>Silver \\nl</td>\n",
       "    </tr>\n",
       "    <tr>\n",
       "      <th>286</th>\n",
       "      <td>SN SNLS-04D3ny</td>\n",
       "      <td>0.810</td>\n",
       "      <td>43.88</td>\n",
       "      <td>0.34</td>\n",
       "      <td>----</td>\n",
       "      <td>Silver \\nl</td>\n",
       "    </tr>\n",
       "    <tr>\n",
       "      <th>287</th>\n",
       "      <td>SN SNLS-04D3oe</td>\n",
       "      <td>0.756</td>\n",
       "      <td>43.64</td>\n",
       "      <td>0.17</td>\n",
       "      <td>----</td>\n",
       "      <td>Gold \\nl</td>\n",
       "    </tr>\n",
       "    <tr>\n",
       "      <th>288</th>\n",
       "      <td>SN SNLS-04D4an</td>\n",
       "      <td>0.613</td>\n",
       "      <td>43.15</td>\n",
       "      <td>0.18</td>\n",
       "      <td>----</td>\n",
       "      <td>Gold \\nl</td>\n",
       "    </tr>\n",
       "    <tr>\n",
       "      <th>289</th>\n",
       "      <td>SN SNLS-04D4bk</td>\n",
       "      <td>0.840</td>\n",
       "      <td>43.66</td>\n",
       "      <td>0.25</td>\n",
       "      <td>----</td>\n",
       "      <td>Silver \\nl</td>\n",
       "    </tr>\n",
       "    <tr>\n",
       "      <th>290</th>\n",
       "      <td>SN SNLS-04D4bq</td>\n",
       "      <td>0.550</td>\n",
       "      <td>42.67</td>\n",
       "      <td>0.17</td>\n",
       "      <td>----</td>\n",
       "      <td>Gold \\nl</td>\n",
       "    </tr>\n",
       "    <tr>\n",
       "      <th>291</th>\n",
       "      <td>SN SNLS-04D4dm</td>\n",
       "      <td>0.811</td>\n",
       "      <td>44.13</td>\n",
       "      <td>0.31</td>\n",
       "      <td>----</td>\n",
       "      <td>Gold \\nl</td>\n",
       "    </tr>\n",
       "    <tr>\n",
       "      <th>292</th>\n",
       "      <td>SN SNLS-04D4dw</td>\n",
       "      <td>0.961</td>\n",
       "      <td>44.18</td>\n",
       "      <td>0.33</td>\n",
       "      <td>----</td>\n",
       "      <td>Gold \\nl</td>\n",
       "    </tr>\n",
       "  </tbody>\n",
       "</table>\n",
       "<p>293 rows × 6 columns</p>\n",
       "</div>"
      ],
      "text/plain": [
       "                   0      1      2     3      4            5\n",
       "0            SN 90O   0.030  35.90  0.21  ----      Gold \\nl\n",
       "1            SN 90T   0.040  36.38  0.20  ----      Gold \\nl\n",
       "2           SN 90af   0.050  36.84  0.22  ----      Gold \\nl\n",
       "3           SN 91ag   0.014  34.13  0.29  ----      Gold \\nl\n",
       "4            SN 91U   0.033  35.53  0.21  ----      Gold \\nl\n",
       "5            SN 91S   0.056  37.31  0.19  ----      Gold \\nl\n",
       "6           SN 92al   0.014  34.12  0.29  ----      Gold \\nl\n",
       "7           SN 92bo   0.017  34.70  0.26  ----      Gold \\nl\n",
       "8           SN 92bc   0.018  34.96  0.25  ----      Gold \\nl\n",
       "9           SN 92ag   0.026  35.06  0.25  ----    Silver \\nl\n",
       "10           SN 92P   0.026  35.63  0.22  ----      Gold \\nl\n",
       "11          SN 92bg   0.036  36.17  0.20  ----      Gold \\nl\n",
       "12          SN 92bl   0.043  36.52  0.19  ----      Gold \\nl\n",
       "13          SN 92bh   0.045  36.99  0.18  ----      Gold \\nl\n",
       "14           SN 92J   0.046  36.35  0.21  ----      Gold \\nl\n",
       "15          SN 92bk   0.058  37.13  0.19  ----      Gold \\nl\n",
       "16          SN 92au   0.061  37.31  0.22  ----      Gold \\nl\n",
       "17          SN 92bs   0.063  37.67  0.19  ----      Gold \\nl\n",
       "18          SN 92ae   0.075  37.77  0.19  ----      Gold \\nl\n",
       "19          SN 92bp   0.079  37.94  0.18  ----      Gold \\nl\n",
       "20          SN 92br   0.088  38.07  0.28  ----      Gold \\nl\n",
       "21          SN 92aq   0.101  38.70  0.20  ----      Gold \\nl\n",
       "22          SN 93ae   0.018  34.29  0.25  ----      Gold \\nl\n",
       "23           SN 93H   0.025  35.09  0.22  ----      Gold \\nl\n",
       "24          SN 93ah   0.028  35.53  0.22  ----      Gold \\nl\n",
       "25          SN 93ac   0.049  36.90  0.21  ----    Silver \\nl\n",
       "26          SN 93ag   0.050  37.07  0.19  ----      Gold \\nl\n",
       "27           SN 93O   0.052  37.16  0.18  ----      Gold \\nl\n",
       "28           SN 93B   0.071  37.78  0.19  ----      Gold \\nl\n",
       "29           SN 94S   0.016  34.50  0.27  ----      Gold \\nl\n",
       "..               ...    ...    ...   ...    ...          ...\n",
       "263  SN SNLS-04D2ja   0.741  43.61  0.20  ----    Silver \\nl\n",
       "264  SN SNLS-04D3co   0.620  43.21  0.18  ----      Gold \\nl\n",
       "265  SN SNLS-04D3cp   0.830  44.60  0.38  ----    Silver \\nl\n",
       "266  SN SNLS-04D3cy   0.643  43.21  0.18  ----      Gold \\nl\n",
       "267  SN SNLS-04D3dd   1.010  44.86  0.55  ----    Silver \\nl\n",
       "268  SN SNLS-04D3df   0.470  42.45  0.17  ----      Gold \\nl\n",
       "269  SN SNLS-04D3do   0.610  42.98  0.17  ----      Gold \\nl\n",
       "270  SN SNLS-04D3ez   0.263  40.87  0.17  ----      Gold \\nl\n",
       "271  SN SNLS-04D3fk   0.358  41.66  0.17  ----      Gold \\nl\n",
       "272  SN SNLS-04D3fq   0.730  43.47  0.18  ----      Gold \\nl\n",
       "273  SN SNLS-04D3gt   0.451  42.22  0.17  ----    Silver \\nl\n",
       "274  SN SNLS-04D3gx   0.910  44.44  0.38  ----    Silver \\nl\n",
       "275  SN SNLS-04D3hn   0.552  42.65  0.17  ----      Gold \\nl\n",
       "276  SN SNLS-04D3is   0.710  43.36  0.18  ----    Silver \\nl\n",
       "277  SN SNLS-04D3ki   0.930  44.61  0.46  ----    Silver \\nl\n",
       "278  SN SNLS-04D3kr   0.337  41.44  0.17  ----      Gold \\nl\n",
       "279  SN SNLS-04D3ks   0.752  43.35  0.19  ----    Silver \\nl\n",
       "280  SN SNLS-04D3lp   0.983  44.13  0.52  ----    Silver \\nl\n",
       "281  SN SNLS-04D3lu   0.822  43.73  0.27  ----      Gold \\nl\n",
       "282  SN SNLS-04D3ml   0.950  44.14  0.31  ----      Gold \\nl\n",
       "283  SN SNLS-04D3nc   0.817  43.84  0.30  ----    Silver \\nl\n",
       "284  SN SNLS-04D3nh   0.340  41.51  0.17  ----      Gold \\nl\n",
       "285  SN SNLS-04D3nr   0.960  43.81  0.28  ----    Silver \\nl\n",
       "286  SN SNLS-04D3ny   0.810  43.88  0.34  ----    Silver \\nl\n",
       "287  SN SNLS-04D3oe   0.756  43.64  0.17  ----      Gold \\nl\n",
       "288  SN SNLS-04D4an   0.613  43.15  0.18  ----      Gold \\nl\n",
       "289  SN SNLS-04D4bk   0.840  43.66  0.25  ----    Silver \\nl\n",
       "290  SN SNLS-04D4bq   0.550  42.67  0.17  ----      Gold \\nl\n",
       "291  SN SNLS-04D4dm   0.811  44.13  0.31  ----      Gold \\nl\n",
       "292  SN SNLS-04D4dw   0.961  44.18  0.33  ----      Gold \\nl\n",
       "\n",
       "[293 rows x 6 columns]"
      ]
     },
     "execution_count": 3,
     "metadata": {},
     "output_type": "execute_result"
    }
   ],
   "source": [
    "#(2)\n",
    "# See what it looks like! (Show the table) (1 point)\n",
    "allSN    #returning the table "
   ]
  },
  {
   "cell_type": "markdown",
   "metadata": {},
   "source": [
    "Let's take full advantage of the pandas table format by naming the columns appopriately.  The columns are name, redshift, mu, sigma, dots, and survey. Rename them and then display the table again."
   ]
  },
  {
   "cell_type": "code",
   "execution_count": 4,
   "metadata": {},
   "outputs": [
    {
     "data": {
      "text/html": [
       "<div>\n",
       "<style scoped>\n",
       "    .dataframe tbody tr th:only-of-type {\n",
       "        vertical-align: middle;\n",
       "    }\n",
       "\n",
       "    .dataframe tbody tr th {\n",
       "        vertical-align: top;\n",
       "    }\n",
       "\n",
       "    .dataframe thead th {\n",
       "        text-align: right;\n",
       "    }\n",
       "</style>\n",
       "<table border=\"1\" class=\"dataframe\">\n",
       "  <thead>\n",
       "    <tr style=\"text-align: right;\">\n",
       "      <th></th>\n",
       "      <th>name</th>\n",
       "      <th>redshift</th>\n",
       "      <th>mu</th>\n",
       "      <th>sigma</th>\n",
       "      <th>dots</th>\n",
       "      <th>survey</th>\n",
       "    </tr>\n",
       "  </thead>\n",
       "  <tbody>\n",
       "    <tr>\n",
       "      <th>0</th>\n",
       "      <td>SN 90O</td>\n",
       "      <td>0.030</td>\n",
       "      <td>35.90</td>\n",
       "      <td>0.21</td>\n",
       "      <td>----</td>\n",
       "      <td>Gold \\nl</td>\n",
       "    </tr>\n",
       "    <tr>\n",
       "      <th>1</th>\n",
       "      <td>SN 90T</td>\n",
       "      <td>0.040</td>\n",
       "      <td>36.38</td>\n",
       "      <td>0.20</td>\n",
       "      <td>----</td>\n",
       "      <td>Gold \\nl</td>\n",
       "    </tr>\n",
       "    <tr>\n",
       "      <th>2</th>\n",
       "      <td>SN 90af</td>\n",
       "      <td>0.050</td>\n",
       "      <td>36.84</td>\n",
       "      <td>0.22</td>\n",
       "      <td>----</td>\n",
       "      <td>Gold \\nl</td>\n",
       "    </tr>\n",
       "    <tr>\n",
       "      <th>3</th>\n",
       "      <td>SN 91ag</td>\n",
       "      <td>0.014</td>\n",
       "      <td>34.13</td>\n",
       "      <td>0.29</td>\n",
       "      <td>----</td>\n",
       "      <td>Gold \\nl</td>\n",
       "    </tr>\n",
       "    <tr>\n",
       "      <th>4</th>\n",
       "      <td>SN 91U</td>\n",
       "      <td>0.033</td>\n",
       "      <td>35.53</td>\n",
       "      <td>0.21</td>\n",
       "      <td>----</td>\n",
       "      <td>Gold \\nl</td>\n",
       "    </tr>\n",
       "    <tr>\n",
       "      <th>5</th>\n",
       "      <td>SN 91S</td>\n",
       "      <td>0.056</td>\n",
       "      <td>37.31</td>\n",
       "      <td>0.19</td>\n",
       "      <td>----</td>\n",
       "      <td>Gold \\nl</td>\n",
       "    </tr>\n",
       "    <tr>\n",
       "      <th>6</th>\n",
       "      <td>SN 92al</td>\n",
       "      <td>0.014</td>\n",
       "      <td>34.12</td>\n",
       "      <td>0.29</td>\n",
       "      <td>----</td>\n",
       "      <td>Gold \\nl</td>\n",
       "    </tr>\n",
       "    <tr>\n",
       "      <th>7</th>\n",
       "      <td>SN 92bo</td>\n",
       "      <td>0.017</td>\n",
       "      <td>34.70</td>\n",
       "      <td>0.26</td>\n",
       "      <td>----</td>\n",
       "      <td>Gold \\nl</td>\n",
       "    </tr>\n",
       "    <tr>\n",
       "      <th>8</th>\n",
       "      <td>SN 92bc</td>\n",
       "      <td>0.018</td>\n",
       "      <td>34.96</td>\n",
       "      <td>0.25</td>\n",
       "      <td>----</td>\n",
       "      <td>Gold \\nl</td>\n",
       "    </tr>\n",
       "    <tr>\n",
       "      <th>9</th>\n",
       "      <td>SN 92ag</td>\n",
       "      <td>0.026</td>\n",
       "      <td>35.06</td>\n",
       "      <td>0.25</td>\n",
       "      <td>----</td>\n",
       "      <td>Silver \\nl</td>\n",
       "    </tr>\n",
       "    <tr>\n",
       "      <th>10</th>\n",
       "      <td>SN 92P</td>\n",
       "      <td>0.026</td>\n",
       "      <td>35.63</td>\n",
       "      <td>0.22</td>\n",
       "      <td>----</td>\n",
       "      <td>Gold \\nl</td>\n",
       "    </tr>\n",
       "    <tr>\n",
       "      <th>11</th>\n",
       "      <td>SN 92bg</td>\n",
       "      <td>0.036</td>\n",
       "      <td>36.17</td>\n",
       "      <td>0.20</td>\n",
       "      <td>----</td>\n",
       "      <td>Gold \\nl</td>\n",
       "    </tr>\n",
       "    <tr>\n",
       "      <th>12</th>\n",
       "      <td>SN 92bl</td>\n",
       "      <td>0.043</td>\n",
       "      <td>36.52</td>\n",
       "      <td>0.19</td>\n",
       "      <td>----</td>\n",
       "      <td>Gold \\nl</td>\n",
       "    </tr>\n",
       "    <tr>\n",
       "      <th>13</th>\n",
       "      <td>SN 92bh</td>\n",
       "      <td>0.045</td>\n",
       "      <td>36.99</td>\n",
       "      <td>0.18</td>\n",
       "      <td>----</td>\n",
       "      <td>Gold \\nl</td>\n",
       "    </tr>\n",
       "    <tr>\n",
       "      <th>14</th>\n",
       "      <td>SN 92J</td>\n",
       "      <td>0.046</td>\n",
       "      <td>36.35</td>\n",
       "      <td>0.21</td>\n",
       "      <td>----</td>\n",
       "      <td>Gold \\nl</td>\n",
       "    </tr>\n",
       "    <tr>\n",
       "      <th>15</th>\n",
       "      <td>SN 92bk</td>\n",
       "      <td>0.058</td>\n",
       "      <td>37.13</td>\n",
       "      <td>0.19</td>\n",
       "      <td>----</td>\n",
       "      <td>Gold \\nl</td>\n",
       "    </tr>\n",
       "    <tr>\n",
       "      <th>16</th>\n",
       "      <td>SN 92au</td>\n",
       "      <td>0.061</td>\n",
       "      <td>37.31</td>\n",
       "      <td>0.22</td>\n",
       "      <td>----</td>\n",
       "      <td>Gold \\nl</td>\n",
       "    </tr>\n",
       "    <tr>\n",
       "      <th>17</th>\n",
       "      <td>SN 92bs</td>\n",
       "      <td>0.063</td>\n",
       "      <td>37.67</td>\n",
       "      <td>0.19</td>\n",
       "      <td>----</td>\n",
       "      <td>Gold \\nl</td>\n",
       "    </tr>\n",
       "    <tr>\n",
       "      <th>18</th>\n",
       "      <td>SN 92ae</td>\n",
       "      <td>0.075</td>\n",
       "      <td>37.77</td>\n",
       "      <td>0.19</td>\n",
       "      <td>----</td>\n",
       "      <td>Gold \\nl</td>\n",
       "    </tr>\n",
       "    <tr>\n",
       "      <th>19</th>\n",
       "      <td>SN 92bp</td>\n",
       "      <td>0.079</td>\n",
       "      <td>37.94</td>\n",
       "      <td>0.18</td>\n",
       "      <td>----</td>\n",
       "      <td>Gold \\nl</td>\n",
       "    </tr>\n",
       "    <tr>\n",
       "      <th>20</th>\n",
       "      <td>SN 92br</td>\n",
       "      <td>0.088</td>\n",
       "      <td>38.07</td>\n",
       "      <td>0.28</td>\n",
       "      <td>----</td>\n",
       "      <td>Gold \\nl</td>\n",
       "    </tr>\n",
       "    <tr>\n",
       "      <th>21</th>\n",
       "      <td>SN 92aq</td>\n",
       "      <td>0.101</td>\n",
       "      <td>38.70</td>\n",
       "      <td>0.20</td>\n",
       "      <td>----</td>\n",
       "      <td>Gold \\nl</td>\n",
       "    </tr>\n",
       "    <tr>\n",
       "      <th>22</th>\n",
       "      <td>SN 93ae</td>\n",
       "      <td>0.018</td>\n",
       "      <td>34.29</td>\n",
       "      <td>0.25</td>\n",
       "      <td>----</td>\n",
       "      <td>Gold \\nl</td>\n",
       "    </tr>\n",
       "    <tr>\n",
       "      <th>23</th>\n",
       "      <td>SN 93H</td>\n",
       "      <td>0.025</td>\n",
       "      <td>35.09</td>\n",
       "      <td>0.22</td>\n",
       "      <td>----</td>\n",
       "      <td>Gold \\nl</td>\n",
       "    </tr>\n",
       "    <tr>\n",
       "      <th>24</th>\n",
       "      <td>SN 93ah</td>\n",
       "      <td>0.028</td>\n",
       "      <td>35.53</td>\n",
       "      <td>0.22</td>\n",
       "      <td>----</td>\n",
       "      <td>Gold \\nl</td>\n",
       "    </tr>\n",
       "    <tr>\n",
       "      <th>25</th>\n",
       "      <td>SN 93ac</td>\n",
       "      <td>0.049</td>\n",
       "      <td>36.90</td>\n",
       "      <td>0.21</td>\n",
       "      <td>----</td>\n",
       "      <td>Silver \\nl</td>\n",
       "    </tr>\n",
       "    <tr>\n",
       "      <th>26</th>\n",
       "      <td>SN 93ag</td>\n",
       "      <td>0.050</td>\n",
       "      <td>37.07</td>\n",
       "      <td>0.19</td>\n",
       "      <td>----</td>\n",
       "      <td>Gold \\nl</td>\n",
       "    </tr>\n",
       "    <tr>\n",
       "      <th>27</th>\n",
       "      <td>SN 93O</td>\n",
       "      <td>0.052</td>\n",
       "      <td>37.16</td>\n",
       "      <td>0.18</td>\n",
       "      <td>----</td>\n",
       "      <td>Gold \\nl</td>\n",
       "    </tr>\n",
       "    <tr>\n",
       "      <th>28</th>\n",
       "      <td>SN 93B</td>\n",
       "      <td>0.071</td>\n",
       "      <td>37.78</td>\n",
       "      <td>0.19</td>\n",
       "      <td>----</td>\n",
       "      <td>Gold \\nl</td>\n",
       "    </tr>\n",
       "    <tr>\n",
       "      <th>29</th>\n",
       "      <td>SN 94S</td>\n",
       "      <td>0.016</td>\n",
       "      <td>34.50</td>\n",
       "      <td>0.27</td>\n",
       "      <td>----</td>\n",
       "      <td>Gold \\nl</td>\n",
       "    </tr>\n",
       "    <tr>\n",
       "      <th>...</th>\n",
       "      <td>...</td>\n",
       "      <td>...</td>\n",
       "      <td>...</td>\n",
       "      <td>...</td>\n",
       "      <td>...</td>\n",
       "      <td>...</td>\n",
       "    </tr>\n",
       "    <tr>\n",
       "      <th>263</th>\n",
       "      <td>SN SNLS-04D2ja</td>\n",
       "      <td>0.741</td>\n",
       "      <td>43.61</td>\n",
       "      <td>0.20</td>\n",
       "      <td>----</td>\n",
       "      <td>Silver \\nl</td>\n",
       "    </tr>\n",
       "    <tr>\n",
       "      <th>264</th>\n",
       "      <td>SN SNLS-04D3co</td>\n",
       "      <td>0.620</td>\n",
       "      <td>43.21</td>\n",
       "      <td>0.18</td>\n",
       "      <td>----</td>\n",
       "      <td>Gold \\nl</td>\n",
       "    </tr>\n",
       "    <tr>\n",
       "      <th>265</th>\n",
       "      <td>SN SNLS-04D3cp</td>\n",
       "      <td>0.830</td>\n",
       "      <td>44.60</td>\n",
       "      <td>0.38</td>\n",
       "      <td>----</td>\n",
       "      <td>Silver \\nl</td>\n",
       "    </tr>\n",
       "    <tr>\n",
       "      <th>266</th>\n",
       "      <td>SN SNLS-04D3cy</td>\n",
       "      <td>0.643</td>\n",
       "      <td>43.21</td>\n",
       "      <td>0.18</td>\n",
       "      <td>----</td>\n",
       "      <td>Gold \\nl</td>\n",
       "    </tr>\n",
       "    <tr>\n",
       "      <th>267</th>\n",
       "      <td>SN SNLS-04D3dd</td>\n",
       "      <td>1.010</td>\n",
       "      <td>44.86</td>\n",
       "      <td>0.55</td>\n",
       "      <td>----</td>\n",
       "      <td>Silver \\nl</td>\n",
       "    </tr>\n",
       "    <tr>\n",
       "      <th>268</th>\n",
       "      <td>SN SNLS-04D3df</td>\n",
       "      <td>0.470</td>\n",
       "      <td>42.45</td>\n",
       "      <td>0.17</td>\n",
       "      <td>----</td>\n",
       "      <td>Gold \\nl</td>\n",
       "    </tr>\n",
       "    <tr>\n",
       "      <th>269</th>\n",
       "      <td>SN SNLS-04D3do</td>\n",
       "      <td>0.610</td>\n",
       "      <td>42.98</td>\n",
       "      <td>0.17</td>\n",
       "      <td>----</td>\n",
       "      <td>Gold \\nl</td>\n",
       "    </tr>\n",
       "    <tr>\n",
       "      <th>270</th>\n",
       "      <td>SN SNLS-04D3ez</td>\n",
       "      <td>0.263</td>\n",
       "      <td>40.87</td>\n",
       "      <td>0.17</td>\n",
       "      <td>----</td>\n",
       "      <td>Gold \\nl</td>\n",
       "    </tr>\n",
       "    <tr>\n",
       "      <th>271</th>\n",
       "      <td>SN SNLS-04D3fk</td>\n",
       "      <td>0.358</td>\n",
       "      <td>41.66</td>\n",
       "      <td>0.17</td>\n",
       "      <td>----</td>\n",
       "      <td>Gold \\nl</td>\n",
       "    </tr>\n",
       "    <tr>\n",
       "      <th>272</th>\n",
       "      <td>SN SNLS-04D3fq</td>\n",
       "      <td>0.730</td>\n",
       "      <td>43.47</td>\n",
       "      <td>0.18</td>\n",
       "      <td>----</td>\n",
       "      <td>Gold \\nl</td>\n",
       "    </tr>\n",
       "    <tr>\n",
       "      <th>273</th>\n",
       "      <td>SN SNLS-04D3gt</td>\n",
       "      <td>0.451</td>\n",
       "      <td>42.22</td>\n",
       "      <td>0.17</td>\n",
       "      <td>----</td>\n",
       "      <td>Silver \\nl</td>\n",
       "    </tr>\n",
       "    <tr>\n",
       "      <th>274</th>\n",
       "      <td>SN SNLS-04D3gx</td>\n",
       "      <td>0.910</td>\n",
       "      <td>44.44</td>\n",
       "      <td>0.38</td>\n",
       "      <td>----</td>\n",
       "      <td>Silver \\nl</td>\n",
       "    </tr>\n",
       "    <tr>\n",
       "      <th>275</th>\n",
       "      <td>SN SNLS-04D3hn</td>\n",
       "      <td>0.552</td>\n",
       "      <td>42.65</td>\n",
       "      <td>0.17</td>\n",
       "      <td>----</td>\n",
       "      <td>Gold \\nl</td>\n",
       "    </tr>\n",
       "    <tr>\n",
       "      <th>276</th>\n",
       "      <td>SN SNLS-04D3is</td>\n",
       "      <td>0.710</td>\n",
       "      <td>43.36</td>\n",
       "      <td>0.18</td>\n",
       "      <td>----</td>\n",
       "      <td>Silver \\nl</td>\n",
       "    </tr>\n",
       "    <tr>\n",
       "      <th>277</th>\n",
       "      <td>SN SNLS-04D3ki</td>\n",
       "      <td>0.930</td>\n",
       "      <td>44.61</td>\n",
       "      <td>0.46</td>\n",
       "      <td>----</td>\n",
       "      <td>Silver \\nl</td>\n",
       "    </tr>\n",
       "    <tr>\n",
       "      <th>278</th>\n",
       "      <td>SN SNLS-04D3kr</td>\n",
       "      <td>0.337</td>\n",
       "      <td>41.44</td>\n",
       "      <td>0.17</td>\n",
       "      <td>----</td>\n",
       "      <td>Gold \\nl</td>\n",
       "    </tr>\n",
       "    <tr>\n",
       "      <th>279</th>\n",
       "      <td>SN SNLS-04D3ks</td>\n",
       "      <td>0.752</td>\n",
       "      <td>43.35</td>\n",
       "      <td>0.19</td>\n",
       "      <td>----</td>\n",
       "      <td>Silver \\nl</td>\n",
       "    </tr>\n",
       "    <tr>\n",
       "      <th>280</th>\n",
       "      <td>SN SNLS-04D3lp</td>\n",
       "      <td>0.983</td>\n",
       "      <td>44.13</td>\n",
       "      <td>0.52</td>\n",
       "      <td>----</td>\n",
       "      <td>Silver \\nl</td>\n",
       "    </tr>\n",
       "    <tr>\n",
       "      <th>281</th>\n",
       "      <td>SN SNLS-04D3lu</td>\n",
       "      <td>0.822</td>\n",
       "      <td>43.73</td>\n",
       "      <td>0.27</td>\n",
       "      <td>----</td>\n",
       "      <td>Gold \\nl</td>\n",
       "    </tr>\n",
       "    <tr>\n",
       "      <th>282</th>\n",
       "      <td>SN SNLS-04D3ml</td>\n",
       "      <td>0.950</td>\n",
       "      <td>44.14</td>\n",
       "      <td>0.31</td>\n",
       "      <td>----</td>\n",
       "      <td>Gold \\nl</td>\n",
       "    </tr>\n",
       "    <tr>\n",
       "      <th>283</th>\n",
       "      <td>SN SNLS-04D3nc</td>\n",
       "      <td>0.817</td>\n",
       "      <td>43.84</td>\n",
       "      <td>0.30</td>\n",
       "      <td>----</td>\n",
       "      <td>Silver \\nl</td>\n",
       "    </tr>\n",
       "    <tr>\n",
       "      <th>284</th>\n",
       "      <td>SN SNLS-04D3nh</td>\n",
       "      <td>0.340</td>\n",
       "      <td>41.51</td>\n",
       "      <td>0.17</td>\n",
       "      <td>----</td>\n",
       "      <td>Gold \\nl</td>\n",
       "    </tr>\n",
       "    <tr>\n",
       "      <th>285</th>\n",
       "      <td>SN SNLS-04D3nr</td>\n",
       "      <td>0.960</td>\n",
       "      <td>43.81</td>\n",
       "      <td>0.28</td>\n",
       "      <td>----</td>\n",
       "      <td>Silver \\nl</td>\n",
       "    </tr>\n",
       "    <tr>\n",
       "      <th>286</th>\n",
       "      <td>SN SNLS-04D3ny</td>\n",
       "      <td>0.810</td>\n",
       "      <td>43.88</td>\n",
       "      <td>0.34</td>\n",
       "      <td>----</td>\n",
       "      <td>Silver \\nl</td>\n",
       "    </tr>\n",
       "    <tr>\n",
       "      <th>287</th>\n",
       "      <td>SN SNLS-04D3oe</td>\n",
       "      <td>0.756</td>\n",
       "      <td>43.64</td>\n",
       "      <td>0.17</td>\n",
       "      <td>----</td>\n",
       "      <td>Gold \\nl</td>\n",
       "    </tr>\n",
       "    <tr>\n",
       "      <th>288</th>\n",
       "      <td>SN SNLS-04D4an</td>\n",
       "      <td>0.613</td>\n",
       "      <td>43.15</td>\n",
       "      <td>0.18</td>\n",
       "      <td>----</td>\n",
       "      <td>Gold \\nl</td>\n",
       "    </tr>\n",
       "    <tr>\n",
       "      <th>289</th>\n",
       "      <td>SN SNLS-04D4bk</td>\n",
       "      <td>0.840</td>\n",
       "      <td>43.66</td>\n",
       "      <td>0.25</td>\n",
       "      <td>----</td>\n",
       "      <td>Silver \\nl</td>\n",
       "    </tr>\n",
       "    <tr>\n",
       "      <th>290</th>\n",
       "      <td>SN SNLS-04D4bq</td>\n",
       "      <td>0.550</td>\n",
       "      <td>42.67</td>\n",
       "      <td>0.17</td>\n",
       "      <td>----</td>\n",
       "      <td>Gold \\nl</td>\n",
       "    </tr>\n",
       "    <tr>\n",
       "      <th>291</th>\n",
       "      <td>SN SNLS-04D4dm</td>\n",
       "      <td>0.811</td>\n",
       "      <td>44.13</td>\n",
       "      <td>0.31</td>\n",
       "      <td>----</td>\n",
       "      <td>Gold \\nl</td>\n",
       "    </tr>\n",
       "    <tr>\n",
       "      <th>292</th>\n",
       "      <td>SN SNLS-04D4dw</td>\n",
       "      <td>0.961</td>\n",
       "      <td>44.18</td>\n",
       "      <td>0.33</td>\n",
       "      <td>----</td>\n",
       "      <td>Gold \\nl</td>\n",
       "    </tr>\n",
       "  </tbody>\n",
       "</table>\n",
       "<p>293 rows × 6 columns</p>\n",
       "</div>"
      ],
      "text/plain": [
       "                name  redshift     mu  sigma   dots       survey\n",
       "0            SN 90O      0.030  35.90   0.21  ----      Gold \\nl\n",
       "1            SN 90T      0.040  36.38   0.20  ----      Gold \\nl\n",
       "2           SN 90af      0.050  36.84   0.22  ----      Gold \\nl\n",
       "3           SN 91ag      0.014  34.13   0.29  ----      Gold \\nl\n",
       "4            SN 91U      0.033  35.53   0.21  ----      Gold \\nl\n",
       "5            SN 91S      0.056  37.31   0.19  ----      Gold \\nl\n",
       "6           SN 92al      0.014  34.12   0.29  ----      Gold \\nl\n",
       "7           SN 92bo      0.017  34.70   0.26  ----      Gold \\nl\n",
       "8           SN 92bc      0.018  34.96   0.25  ----      Gold \\nl\n",
       "9           SN 92ag      0.026  35.06   0.25  ----    Silver \\nl\n",
       "10           SN 92P      0.026  35.63   0.22  ----      Gold \\nl\n",
       "11          SN 92bg      0.036  36.17   0.20  ----      Gold \\nl\n",
       "12          SN 92bl      0.043  36.52   0.19  ----      Gold \\nl\n",
       "13          SN 92bh      0.045  36.99   0.18  ----      Gold \\nl\n",
       "14           SN 92J      0.046  36.35   0.21  ----      Gold \\nl\n",
       "15          SN 92bk      0.058  37.13   0.19  ----      Gold \\nl\n",
       "16          SN 92au      0.061  37.31   0.22  ----      Gold \\nl\n",
       "17          SN 92bs      0.063  37.67   0.19  ----      Gold \\nl\n",
       "18          SN 92ae      0.075  37.77   0.19  ----      Gold \\nl\n",
       "19          SN 92bp      0.079  37.94   0.18  ----      Gold \\nl\n",
       "20          SN 92br      0.088  38.07   0.28  ----      Gold \\nl\n",
       "21          SN 92aq      0.101  38.70   0.20  ----      Gold \\nl\n",
       "22          SN 93ae      0.018  34.29   0.25  ----      Gold \\nl\n",
       "23           SN 93H      0.025  35.09   0.22  ----      Gold \\nl\n",
       "24          SN 93ah      0.028  35.53   0.22  ----      Gold \\nl\n",
       "25          SN 93ac      0.049  36.90   0.21  ----    Silver \\nl\n",
       "26          SN 93ag      0.050  37.07   0.19  ----      Gold \\nl\n",
       "27           SN 93O      0.052  37.16   0.18  ----      Gold \\nl\n",
       "28           SN 93B      0.071  37.78   0.19  ----      Gold \\nl\n",
       "29           SN 94S      0.016  34.50   0.27  ----      Gold \\nl\n",
       "..               ...       ...    ...    ...    ...          ...\n",
       "263  SN SNLS-04D2ja      0.741  43.61   0.20  ----    Silver \\nl\n",
       "264  SN SNLS-04D3co      0.620  43.21   0.18  ----      Gold \\nl\n",
       "265  SN SNLS-04D3cp      0.830  44.60   0.38  ----    Silver \\nl\n",
       "266  SN SNLS-04D3cy      0.643  43.21   0.18  ----      Gold \\nl\n",
       "267  SN SNLS-04D3dd      1.010  44.86   0.55  ----    Silver \\nl\n",
       "268  SN SNLS-04D3df      0.470  42.45   0.17  ----      Gold \\nl\n",
       "269  SN SNLS-04D3do      0.610  42.98   0.17  ----      Gold \\nl\n",
       "270  SN SNLS-04D3ez      0.263  40.87   0.17  ----      Gold \\nl\n",
       "271  SN SNLS-04D3fk      0.358  41.66   0.17  ----      Gold \\nl\n",
       "272  SN SNLS-04D3fq      0.730  43.47   0.18  ----      Gold \\nl\n",
       "273  SN SNLS-04D3gt      0.451  42.22   0.17  ----    Silver \\nl\n",
       "274  SN SNLS-04D3gx      0.910  44.44   0.38  ----    Silver \\nl\n",
       "275  SN SNLS-04D3hn      0.552  42.65   0.17  ----      Gold \\nl\n",
       "276  SN SNLS-04D3is      0.710  43.36   0.18  ----    Silver \\nl\n",
       "277  SN SNLS-04D3ki      0.930  44.61   0.46  ----    Silver \\nl\n",
       "278  SN SNLS-04D3kr      0.337  41.44   0.17  ----      Gold \\nl\n",
       "279  SN SNLS-04D3ks      0.752  43.35   0.19  ----    Silver \\nl\n",
       "280  SN SNLS-04D3lp      0.983  44.13   0.52  ----    Silver \\nl\n",
       "281  SN SNLS-04D3lu      0.822  43.73   0.27  ----      Gold \\nl\n",
       "282  SN SNLS-04D3ml      0.950  44.14   0.31  ----      Gold \\nl\n",
       "283  SN SNLS-04D3nc      0.817  43.84   0.30  ----    Silver \\nl\n",
       "284  SN SNLS-04D3nh      0.340  41.51   0.17  ----      Gold \\nl\n",
       "285  SN SNLS-04D3nr      0.960  43.81   0.28  ----    Silver \\nl\n",
       "286  SN SNLS-04D3ny      0.810  43.88   0.34  ----    Silver \\nl\n",
       "287  SN SNLS-04D3oe      0.756  43.64   0.17  ----      Gold \\nl\n",
       "288  SN SNLS-04D4an      0.613  43.15   0.18  ----      Gold \\nl\n",
       "289  SN SNLS-04D4bk      0.840  43.66   0.25  ----    Silver \\nl\n",
       "290  SN SNLS-04D4bq      0.550  42.67   0.17  ----      Gold \\nl\n",
       "291  SN SNLS-04D4dm      0.811  44.13   0.31  ----      Gold \\nl\n",
       "292  SN SNLS-04D4dw      0.961  44.18   0.33  ----      Gold \\nl\n",
       "\n",
       "[293 rows x 6 columns]"
      ]
     },
     "execution_count": 4,
     "metadata": {},
     "output_type": "execute_result"
    }
   ],
   "source": [
    "#(3)\n",
    "# Rename them \"name\", \"redshift\", \"mu\", \"sigma\", \"dots\", \"survey\"\n",
    "allSN.columns=[\"name\", \"redshift\", \"mu\", \"sigma\", \"dots\", \"survey\"] #renaming the columns\n",
    "allSN           #returning the table with new columns names."
   ]
  },
  {
   "cell_type": "markdown",
   "metadata": {},
   "source": [
    "Note that all plots must have axis labels that include both the name of the variable being plotted and its units.  Redshift and distance modulus are weird because they're unitless, so no units are necessary for those two. I've put restrictions on the number of lines of code in each cell and you will receive a deduction for each extra line of code.  This does not include documentation."
   ]
  },
  {
   "cell_type": "markdown",
   "metadata": {},
   "source": [
    "First plot distance modulus ($\\mu$) on the vertical axis, and redshift on the horizontal axis. Your plot should look like Figure 6 from the Riess et al paper! (A nice check.)  _Note, you only need 3 lines of code to do this, including the 2 lines to label the axis!  No need to convert anything to numpy arrays.  Just plot the columns versus each other! Neither distance modulus nor redshift has units._"
   ]
  },
  {
   "cell_type": "code",
   "execution_count": 5,
   "metadata": {},
   "outputs": [
    {
     "data": {
      "text/plain": [
       "Text(0,0.5,'distance modulus')"
      ]
     },
     "execution_count": 5,
     "metadata": {},
     "output_type": "execute_result"
    },
    {
     "data": {
      "image/png": "[encoded data removed]",
      "text/plain": [
       "<matplotlib.figure.Figure at 0x7f072b670710>"
      ]
     },
     "metadata": {},
     "output_type": "display_data"
    }
   ],
   "source": [
    "#(4) Plot distance modulus vs redshift.  Make sure it looks like Figure 6 from Riess et al paper.\n",
    "# (2 points, to receive all the credit you must accomplish this is 3 lines of code)\n",
    "plt.plot(allSN.redshift, allSN.mu, \".\") #ploting redshift vs mu columns using dots\n",
    "plt.xlabel(\"redshift\")                 #labeling x-xis\n",
    "plt.ylabel(\"distance modulus\")         #labeling y-axis"
   ]
  },
  {
   "cell_type": "markdown",
   "metadata": {},
   "source": [
    "Okay so that's totally fun (to be able to reproduce a plot from a Nobel prize winning paper!). Now we want to get distance from distance modulus.\n",
    "\n",
    "The distance modulus $\\mu_0$ to which the table refers (column name is \"mu\") is\n",
    "the difference between the apparent and absolute magnitude\n",
    "of the star:\n",
    "$$\n",
    "\\mu_0 = m - M\n",
    "$$\n",
    "where m is the apparent magnitude and M is the absolute magnitude.\n",
    "\n",
    "An object with a distance modulus of $0$ has a distance of 10 pc.  That's actually how absolute magnitude is defined.\n",
    "\n",
    "$$\n",
    "m - M = 5 \\log d - 5 \\\\\n",
    "\\mu_0 = 5 \\log d - 5\n",
    "$$\n",
    "$$\n",
    "(\\mu_0 + 5)/5 = \\log d\n",
    "$$\n",
    "$$\n",
    "d = 10^{\\frac{\\mu_0}{5} + 1}\n",
    "$$\n",
    "\n",
    "Use that last formula to calculate distance from the table.  Call it \"d\".  The formula above yields pc (parsecs). Convert your answer to Mpc (mega parsecs.) This should take at most 2 lines of code."
   ]
  },
  {
   "cell_type": "code",
   "execution_count": 6,
   "metadata": {},
   "outputs": [],
   "source": [
    "#(5) Calculate distance from distance modulus (no more than 2 lines of code) (2 points)\n",
    "d= 10**( (allSN.mu/5) + 1 )    #calculating distance \n",
    "d=d/(10**6)                    #changing distance to mega parsecs"
   ]
  },
  {
   "cell_type": "markdown",
   "metadata": {},
   "source": [
    "Now plot redshift vs distance.  Again you only need 3 lines of code including the two lines to label the axes."
   ]
  },
  {
   "cell_type": "code",
   "execution_count": 7,
   "metadata": {},
   "outputs": [
    {
     "data": {
      "text/plain": [
       "Text(0,0.5,'distance (Mpc)')"
      ]
     },
     "execution_count": 7,
     "metadata": {},
     "output_type": "execute_result"
    },
    {
     "data": {
      "image/png": "[encoded data removed]",
      "text/plain": [
       "<matplotlib.figure.Figure at 0x7f07295d6908>"
      ]
     },
     "metadata": {},
     "output_type": "display_data"
    }
   ],
   "source": [
    "#(6) Plot redshift vs distance.  No more than 3 lines of code. (2 points)\n",
    "plt.plot(allSN.redshift, d, \".\") #ploting redshift vs distance using dots\n",
    "plt.xlabel(\"redshift\")          #labeling x-xis\n",
    "plt.ylabel(\"distance (Mpc)\")    #labeling y-axis"
   ]
  },
  {
   "cell_type": "markdown",
   "metadata": {},
   "source": [
    "Is this what you expect?  That the redshift is higher for larger distances?  It's _really important_ that we do not expect a result like this unless the universe is expanding. I'm asking you to sort out for yourself the cause of distance being proportional to redshift. Large redshifts are _not caused_ by large distances, but rather by large velocities. Something could be close to you, and moving at large velocity, and it would indeed exhibit a large redshift."
   ]
  },
  {
   "cell_type": "markdown",
   "metadata": {},
   "source": [
    "#(7) Is this what you would expect? (2 points)  Explain why, making sure to avoid the pitfall I described above.\n",
    "* ```Yes, this is what I expected. When the redshift is 1.75, the distance is close to 12,000Mpc. When the redshift is 0.25, the distance is close to 1,000Mpc. This confirms that the redshifts is higher for larger distances and lower for smaller distances.```"
   ]
  },
  {
   "cell_type": "markdown",
   "metadata": {},
   "source": [
    "Now fit for Hubble's constant using these data. Using np.polyfit, fit a line (otherwise known as a 1st order polynomial) to the data. The redshift is your independent variable (the x in y=mx+b) and the distance is the dependent variable (the y in the y=mx+b). Let \"p\" be the name of the array in which you store what polyfit returns.  So \"p = np.polyfit(.....\".  (This is only one line of code.)"
   ]
  },
  {
   "cell_type": "code",
   "execution_count": 8,
   "metadata": {},
   "outputs": [],
   "source": [
    "#(8) Use polyfit to fit a line to the data. (only one line of code) (1 point)\n",
    "p = np.polyfit(allSN.redshift, d, 1)      #fitting a line using polyfit "
   ]
  },
  {
   "cell_type": "code",
   "execution_count": 9,
   "metadata": {},
   "outputs": [
    {
     "data": {
      "text/plain": [
       "array([7179.77034579, -232.36483816])"
      ]
     },
     "execution_count": 9,
     "metadata": {},
     "output_type": "execute_result"
    }
   ],
   "source": [
    "#(9)  Show the fitted parameters here (1 point)\n",
    "p        #returning two parameters"
   ]
  },
  {
   "cell_type": "markdown",
   "metadata": {},
   "source": [
    "You really have no right to expect that that worked until you assess how well it worked.  So plot the fitted line on top of the data.\n",
    "\n",
    "Some hints:\n",
    "\n",
    "y = mx+b   <- that's the equation for a line most of us were taught at some point\n",
    "\n",
    "The way np.polyfit does it\n",
    "p[0] is the \"m\" and p[1] is the \"b\". redshift is the \"x\".\n",
    "\n",
    "This should be 5 lines of code, including the two axis labels."
   ]
  },
  {
   "cell_type": "code",
   "execution_count": 10,
   "metadata": {},
   "outputs": [
    {
     "data": {
      "text/plain": [
       "Text(0,0.5,'distance (Mpc)')"
      ]
     },
     "execution_count": 10,
     "metadata": {},
     "output_type": "execute_result"
    },
    {
     "data": {
      "image/png": "[encoded data removed]",
      "text/plain": [
       "<matplotlib.figure.Figure at 0x7f07d45d76a0>"
      ]
     },
     "metadata": {},
     "output_type": "display_data"
    }
   ],
   "source": [
    "#(10) Plot the fitted line on top of the data, no more than 5 lines of code. (4 points)\n",
    "bestline = p[0]*allSN.redshift + p[1]   #fit line equation\n",
    "plt.plot(allSN.redshift, d, \".\")        #ploting redshift vs distance using dots\n",
    "plt.plot(allSN.redshift, bestline)      #plotting the bestline fit\n",
    "plt.xlabel(\"redshift\")                  #labeling x-xis\n",
    "plt.ylabel(\"distance (Mpc)\")            #labeling y-axis"
   ]
  },
  {
   "cell_type": "markdown",
   "metadata": {},
   "source": [
    "Hubble's constant is known well.  It's about 72 km/s per Mpc.  Is that what you got?  Ack!!  I don't know!\n",
    "_The slope of your graph is currently in Mpc per redshift._\n",
    "So we need to get km/s on the vertical axis, and Mpc on the horizontal axis, then the slope of your line should be Hubble's\n",
    "constant.  Getting distance from redshift turns out to be a little tricky...."
   ]
  },
  {
   "cell_type": "markdown",
   "metadata": {},
   "source": [
    "## Relativistic relationship between velocity and redshift\n",
    "In the last lab we used an approximation for the relationship between velocity and redshift ($v = zc$) that only works at relatively low velocities.  Low compared to what?  An excellent question.  Low compared the speed of light.  Notice that at redshift of $z=2$ using our formula $v = zc$ that the velocity is twice the speed of light.  This is in fact impossible, since nothing travels faster than the speed of light.  That is our big clue that we need an adjustment. Thankfully, Einstein figured out what the correct function was 100 years ago:  \n",
    "\n",
    "Here's the precise formula (without the approximation):\n",
    "\n",
    "$$\n",
    "z = \\sqrt{\\frac{1+v/c}{1 - v/c}} -1\n",
    "$$\n",
    "\n",
    "And when you solve that for $v$ you get\n",
    "$$\n",
    "v = \\frac{(z+1)^2 -1}{(z+1)^2+1}c\n",
    "$$"
   ]
  },
  {
   "cell_type": "markdown",
   "metadata": {},
   "source": [
    "* Write a function getv(z) which will return $v$ for any value of z we pass it. "
   ]
  },
  {
   "cell_type": "code",
   "execution_count": 11,
   "metadata": {},
   "outputs": [],
   "source": [
    "#(11) Create function getv(z) (3 points)\n",
    "def getv(z):                           #creating a function with one variable\n",
    "    c=3*(10**5)                        #creating a variabe c and assigning it to the speed of light\n",
    "    v=( (( (z+1)**2) -1)/(( (z+1)**2) +1) ) *c      #formula for calculating velocity\n",
    "    return(v)                          #returning velocity"
   ]
  },
  {
   "cell_type": "markdown",
   "metadata": {},
   "source": [
    "Before we go using our function willy nilly we should check that it is correct. One way to check it is to show that for very large z (10 or more) the velocity getv returns is close to the speed of light. Do that below by creating an array of z's, call it _zarray_, from 0 to 10 increasing by an interval of 0.1.  Plot v vs zarray with axes labeled.  Do this with no loops, and no more than 4 lines of code (not including documentation). _Hint: Don't forget you can call your function on a whole array. Another hint: Here are the 4 lines: (1) define zarray, (2) plt.plot (3) plt.xlabel (4) plt.ylabel"
   ]
  },
  {
   "cell_type": "code",
   "execution_count": 12,
   "metadata": {},
   "outputs": [
    {
     "data": {
      "text/plain": [
       "Text(0,0.5,'velocity(km/s)')"
      ]
     },
     "execution_count": 12,
     "metadata": {},
     "output_type": "execute_result"
    },
    {
     "data": {
      "image/png": "[encoded data removed]",
      "text/plain": [
       "<matplotlib.figure.Figure at 0x7f07d4604c50>"
      ]
     },
     "metadata": {},
     "output_type": "display_data"
    }
   ],
   "source": [
    "#(12) Use getv() to make a plot (3 points\n",
    "zarray=np.arange(0, 10, 0.1)        #defining zarray\n",
    "plt.plot(zarray, getv(zarray))      #ploting velocity vs zarray\n",
    "plt.xlabel(\"zarray\")                #labeling x-xis\n",
    "plt.ylabel(\"velocity(km/s)\")        #labeling y-axis"
   ]
  },
  {
   "cell_type": "markdown",
   "metadata": {},
   "source": [
    "Explain what your graph shows.  In other words, from looking at this graph, how do you know your function is working correctly?  (Some hints: comment on its behavior when z is small (0-1) and on its behavior when z is large (8-10).  Explain how those two behaviors reassure you that your function is working properly.)"
   ]
  },
  {
   "cell_type": "markdown",
   "metadata": {},
   "source": [
    "#(13) Explain what your graph shows. (1 point)\n",
    "* ```My function is working correctly because the velocity for smaller z values is lower than the velocity for larger z values. That is, the velocity for z values 0-1 is less than 100,000 kms/s while the velocity for z values 8-10 is close to to 300,000kms/s(speed of light).```"
   ]
  },
  {
   "cell_type": "markdown",
   "metadata": {},
   "source": [
    "We should check whether it returns the expected value for small $z$.  In other words, we expect that for small $z$ our old relationship $v = cz$ still holds.\n",
    "\n",
    "Reproduce the same plot as above, but add a line corresponding to $v=cz$. Make sure your new plot maintains the same axes limits as the previous one. This should add at most three lines of code to the above (one for the new plt.plot, two to set plt.xlim and plt.ylim)."
   ]
  },
  {
   "cell_type": "code",
   "execution_count": 13,
   "metadata": {},
   "outputs": [
    {
     "data": {
      "text/plain": [
       "(0, 300000)"
      ]
     },
     "execution_count": 13,
     "metadata": {},
     "output_type": "execute_result"
    },
    {
     "data": {
      "image/png": "[encoded data removed]",
      "text/plain": [
       "<matplotlib.figure.Figure at 0x7f07d4550320>"
      ]
     },
     "metadata": {},
     "output_type": "display_data"
    }
   ],
   "source": [
    "#(14)  Plot v=cz on top of the plot you showed in #12. (5 points)\n",
    "zarray=np.arange(0, 10, 0.1)        #defining zarray\n",
    "plt.plot(zarray, getv(zarray))      #ploting velocity vs zarray\n",
    "plt.xlabel(\"zarray\")                #labeling x-xis\n",
    "plt.ylabel(\"velocity(km/s)\")        #labeling y-axis\n",
    "\n",
    "plt.plot(allSN.redshift, (allSN.redshift*(3*(10**5)))) #new plot for v=cz\n",
    "plt.xlim(0,10)                      #adding the x limit\n",
    "plt.ylim(0,(3*(10**5)))             # adding the y limit"
   ]
  },
  {
   "cell_type": "markdown",
   "metadata": {},
   "source": [
    "#(15) Based on the graph above, for how high a velocity does $v=zc$ hold true? What fraction of the speed of light is that?\n",
    "(2 points) \n",
    "* ``` v=cz hold true up to a point where v is close to 50,000 km/s. The fraction of the speed of light is 50,000km/s/300,000km/s which equals to 1/6. ```"
   ]
  },
  {
   "cell_type": "markdown",
   "metadata": {},
   "source": [
    "Now that we've figured out how to get distance, let's go back to figuring out Hubble's constant.  Hubble's \"constant\" is in km/s per Mpc, so we want km/s on the vertical axis, and Mpc on the horizontal axis.  That way the slope of our graph will be Hubble's constant.\n",
    "\n",
    "Make this plot using your function getv to get the velocities.  Please call velocity \"velocity\".  _Hint:  This is only 4 lines of code, including 2 lines to label your axes._\n"
   ]
  },
  {
   "cell_type": "code",
   "execution_count": 14,
   "metadata": {},
   "outputs": [
    {
     "data": {
      "text/plain": [
       "Text(0,0.5,'velocity(km/s)')"
      ]
     },
     "execution_count": 14,
     "metadata": {},
     "output_type": "execute_result"
    },
    {
     "data": {
      "image/png": "[encoded data removed]",
      "text/plain": [
       "<matplotlib.figure.Figure at 0x7f07295d6e48>"
      ]
     },
     "metadata": {},
     "output_type": "display_data"
    }
   ],
   "source": [
    "#(16) Plot velocity vs distance. 4 lines of code. (3 points)\n",
    "velocity = getv(allSN.redshift)    #calling the function getv()\n",
    "plt.plot(d, velocity, \".\")         #ploting velocity vs distance using dots\n",
    "plt.xlabel(\"distance (Mpc)\")       #labeling x-xis\n",
    "plt.ylabel(\"velocity(km/s)\")       #labeling y-axis"
   ]
  },
  {
   "cell_type": "markdown",
   "metadata": {},
   "source": [
    "#(17) Describe how you can already see Hubble's constant decreasing as you look at farther away supernovae. Hint: If Hubble's \"constant\" were the same for all distances, this would be a straight line. (1 point)\n",
    "\n",
    "\n",
    "* ``` As you look at farther away supernovae, the curve/line becomes more gentle and scattered as distances increases. Since Hubble constant is the slope of velocity(km/s) vs distance(Mpc) curve, it will be decreasing as this curve/line becomes more gentle. ```"
   ]
  },
  {
   "cell_type": "markdown",
   "metadata": {},
   "source": [
    "Fit a line to these data, and see what its slope is.  The slope should be a reasonable guess at Hubble's constant. (The Hubble's constant we get this way will be too small, for the reason you described just above.)  Use np.polyfit with a \"1\" for its last argument to indicate a first order polynomial.  Set \"p\" (for parameters\") equal to your np.polyfit call, and then show what p is. This is 2 lines of code."
   ]
  },
  {
   "cell_type": "code",
   "execution_count": 15,
   "metadata": {},
   "outputs": [
    {
     "data": {
      "text/plain": [
       "array([2.19249427e+01, 2.84434085e+04])"
      ]
     },
     "execution_count": 15,
     "metadata": {},
     "output_type": "execute_result"
    }
   ],
   "source": [
    "#(18) Fit to a line and show p. 2 lines of code. (2 points)\n",
    "p = np.polyfit(d, velocity, 1)     #fiting a line\n",
    "p                                  #returning parameters "
   ]
  },
  {
   "cell_type": "markdown",
   "metadata": {},
   "source": [
    "Look up the value of Hubble's constant on the web and see if you think that's at least in the ballpark of what we expected.  (Be generous, we know we'll get a lower value than what's on the web, but it shouldn't be 10x lower!).  Comment here on whether your value is in the right ballpark, and also say what units your H is in. (Hint: Look the units on the axis of your plot and consider that slope is change in y over change in x.)  By the way, when astronomers say that something is in the right ballpark, they usually mean is it the same \"order or magnitude\".  By \"order of magnitude\" we mean that if you write it in scientific notation (eg $3.5 \\times 10^8$) that the exponent is the same.  In other words $1.2 \\times 10^8$ is the same order of magnitude as $3.5 \\times 10^8$.\n"
   ]
  },
  {
   "cell_type": "markdown",
   "metadata": {},
   "source": [
    "#(19) Is my value in the right ballpark?  (1 point)\n",
    "* ``` Yes my value is in the right ballpark. This is because the normal Hubble constant, in scientific notationis, is close to 7.2 x 10^1 km/s per Mpc and my Hubble constant is 2.19 x 10^1 km/s per Mpc. Both of this values are in the same magnitude where the exponent is 1(10^1). My hubble constant units is km/s per Mpc . ``` "
   ]
  },
  {
   "cell_type": "markdown",
   "metadata": {},
   "source": [
    "## Overplotting the fit\n",
    "In order to see if the fit turned out right, we should plot it over the top of our data points.  Do that here using the parameters \"p\" and the notes from class on polynomials.  Please call the fitted velocity \"fitted_velocity.\" _Hint: This should only take 5 lines of code including the 2 for labeling the axes."
   ]
  },
  {
   "cell_type": "code",
   "execution_count": 16,
   "metadata": {},
   "outputs": [
    {
     "data": {
      "text/plain": [
       "Text(0,0.5,'velocity(km/s)')"
      ]
     },
     "execution_count": 16,
     "metadata": {},
     "output_type": "execute_result"
    },
    {
     "data": {
      "image/png": "[encoded data removed]",
      "text/plain": [
       "<matplotlib.figure.Figure at 0x7f07d4583710>"
      ]
     },
     "metadata": {},
     "output_type": "display_data"
    }
   ],
   "source": [
    "#(20) Plot our fit over the data (5 lines of code) (4 points)\n",
    "fitted_velocity=p[0]*d + p[1]      #fit_velocity line equation\n",
    "plt.plot(d, velocity, \".\")         #ploting velocity vs distance using dots\n",
    "plt.plot(d, fitted_velocity)       #ploting best fit line\n",
    "plt.xlabel(\"distance (Mpc)\")       #labeling x-xis\n",
    "plt.ylabel(\"velocity(km/s)\")       #labeling y-axis"
   ]
  },
  {
   "cell_type": "markdown",
   "metadata": {},
   "source": [
    "If you did this \"right\" you'll notice the line doesn't fit very well.  It does follow the general trend, but the data kinda snake around it.  Let's try some more experimentation with this idea that perhaps Hubble's \"constant\" is changing."
   ]
  },
  {
   "cell_type": "markdown",
   "metadata": {},
   "source": [
    "What Hubble's 'constant' do you get for the closer supernovae (d < 6000 Mpc) and the farther supernovae (d > 6000 Mpc)  _Hint: Based on Adam's lecture where would you expect to find the largest value of Hubble's 'constant?'  Also, I used np.where to do this, and apparently np.where needs np.arrays, so convert both d and velocity to np.arrays. Please convert them \"in place\" so they are still called\n",
    "\"d\" and \"velocity\"._ \n",
    "\n",
    "You should print your value of Hubble's constant in a complete sentence.\n"
   ]
  },
  {
   "cell_type": "code",
   "execution_count": 17,
   "metadata": {},
   "outputs": [
    {
     "name": "stdout",
     "output_type": "stream",
     "text": [
      "The value of the Hubble's constant is 29.237815600044808 .\n"
     ]
    },
    {
     "data": {
      "image/png": "[encoded data removed]",
      "text/plain": [
       "<matplotlib.figure.Figure at 0x7f07d4522978>"
      ]
     },
     "metadata": {},
     "output_type": "display_data"
    }
   ],
   "source": [
    "#(21a) Find hubble's constant for the closer (d<6000 Mpc) supernovae. (4 points)\n",
    "# No more than 12 lines of code here.\n",
    "\n",
    "d = np.array(d)                     #converting distance to an array\n",
    "velocity = np.array(velocity)       #converting velocity to an array\n",
    "closerd = np.where(d < 6000)        #positions of distances less than 6000Mpc\n",
    "newcloserd = d[closerd]             #distances less than 6000Mpc\n",
    "closervelocity = velocity[closerd]  #velocities where distance is less than 6000Mpc\n",
    "pcloser = np.polyfit(newcloserd, closervelocity, 1) #1st polynomial polyfit\n",
    "\n",
    "closerbestline = pcloser[0]*newcloserd + pcloser[1] #fit line equation\n",
    "plt.plot(newcloserd, closervelocity, \".\")           #ploting closervelocity vs closerdistance using dots\n",
    "plt.plot(newcloserd, closerbestline)                #ploting best fit line\n",
    "plt.xlabel(\"distance (Mpc)\")                        #labeling x-xis\n",
    "plt.ylabel(\"velocity(km/s)\")                        #labeling y-axis\n",
    "\n",
    "print(\"The value of the Hubble's constant is\", pcloser[0], \".\") #printing Hubble constant in a statement"
   ]
  },
  {
   "cell_type": "code",
   "execution_count": 18,
   "metadata": {},
   "outputs": [
    {
     "name": "stdout",
     "output_type": "stream",
     "text": [
      "The value of the Hubble's constant is 8.706066692698274 .\n"
     ]
    },
    {
     "data": {
      "image/png": "[encoded data removed]",
      "text/plain": [
       "<matplotlib.figure.Figure at 0x7f07d455f1d0>"
      ]
     },
     "metadata": {},
     "output_type": "display_data"
    }
   ],
   "source": [
    "#(21b) Find hubble's constant for the closer (d>6000 Mpc) supernovae. (4 points)\n",
    "# No more than 10 lines of code (because you already converted\n",
    "# d and velocity into np.arrays in the cell above)\n",
    "\n",
    "furtherd = np.where(d > 6000)                   #positions of distances more than 6000Mpc\n",
    "newfurtherd = d[furtherd]                       #distances more than 6000Mpc\n",
    "furthervelocity = velocity[furtherd]            #velocities where distance is more than 6000Mpc\n",
    "pfurther = np.polyfit(newfurtherd, furthervelocity, 1)    #parameters for the equation\n",
    "\n",
    "furtherbestline = pfurther[0]*newfurtherd + pfurther[1]    #fit line equation\n",
    "plt.plot(newfurtherd, furthervelocity, \".\")                #ploting newfurtherdistance vs furthervelocity curve using dots\n",
    "plt.plot(newfurtherd, furtherbestline)                     #ploting best fit line\n",
    "plt.xlabel(\"distance (Mpc)\")                               #labeling x-xis\n",
    "plt.ylabel(\"velocity(km/s)\")                               #labeling y-axis\n",
    "\n",
    "print(\"The value of the Hubble's constant is\", pfurther[0], \".\" ) #printing hubble constant in a statement"
   ]
  },
  {
   "cell_type": "markdown",
   "metadata": {},
   "source": [
    "Summarize what you learned from the two plots above. What were your two values of the Hubble constant from the two plots.  Be sure to quote units on your answers."
   ]
  },
  {
   "cell_type": "markdown",
   "metadata": {},
   "source": [
    "#(22) What were your two values of the Hubble constant above (in correct units), and what did you learn from them?\n",
    "Suggested answer: (3 points)\n",
    "* ```Hubble constant for d< 6000Mpc is 29.237815600044808 km/s per Mpc ```\n",
    "* ```Hubble constant for d> 6000Mpc is 8.706066692698274 km/s per Mpc```\n",
    "\n",
    "\n",
    "```From these two values, the Hubble Constant for d < 6000Mpc is larger than that for d > 6000Mpc. The larger value of Hubble constant will then be found at d < 6000Mpc. This confirms the earlier argument that Hubbles constant decreases as you look at farther away supernovae. ```"
   ]
  },
  {
   "cell_type": "markdown",
   "metadata": {},
   "source": [
    "# Did you notice that our line is doing a pretty bad job of modeling the data? \n",
    "\n",
    "One way to determine that is to plot the \"residuals\" of the fit.  \"Residuals\" are a fancy word for the difference between the model and the data. \n",
    "\n",
    "Plot the residuals resulting from fitting a line to the entire data set.\n",
    "\n",
    "_Hint: because you have already plotted the fitted line (at the top of the section called \"Overplotting the fit\"), you only at most one more line of code to plot the residuals. So take your 5 lines of code from there and add no more than one line. The residuals are the original velocities minus the fitted velocities._\n",
    "\n",
    "_Hint2: The y-axis should be labeled \"residual velocity (km/sec)\"_\n"
   ]
  },
  {
   "cell_type": "code",
   "execution_count": 19,
   "metadata": {},
   "outputs": [
    {
     "data": {
      "text/plain": [
       "Text(0,0.5,'residual velocity(km/sec)')"
      ]
     },
     "execution_count": 19,
     "metadata": {},
     "output_type": "execute_result"
    },
    {
     "data": {
      "image/png": "[encoded data removed]",
      "text/plain": [
       "<matplotlib.figure.Figure at 0x7f07d4548438>"
      ]
     },
     "metadata": {},
     "output_type": "display_data"
    }
   ],
   "source": [
    "#(23) Plot the residuals resulting from fitting a line to the entire data set. No more than 6 lines of code. \n",
    "# (4 points)\n",
    "fitted_velocity=p[0]*d + p[1]           #fit line equation\n",
    "residuals=velocity-fitted_velocity      #calculating residuals\n",
    "#plt.plot(d, velocity, \".\")             #ploting velocity vs distance\n",
    "plt.plot(d, residuals, \".\")             #ploting distance vs residuals\n",
    "plt.xlabel(\"distance (Mpc)\")            #labeling x-xis\n",
    "plt.ylabel(\"residual velocity(km/sec)\") #labeling y-axis"
   ]
  },
  {
   "cell_type": "markdown",
   "metadata": {},
   "source": [
    "If you've done this right, you should see residual velocities that run from about -60,000 km/sec to 60,000 km/sec. "
   ]
  },
  {
   "cell_type": "markdown",
   "metadata": {},
   "source": [
    "#(24) Why are some of the residuals negative? (1 point)\n",
    "* ```When you plot the fitted velocity fit line on the same graph with distance vs velocity, some velocity values will be found below the fitted velocity line. This means that fitted velocity values at these distances are greater than the corresponding velocity values. Since residuals equals velocity minus fitted velocity, it will therefore be negative when fitted velocity is more than velocity.``` "
   ]
  },
  {
   "cell_type": "markdown",
   "metadata": {},
   "source": [
    "#(25) What would you expect this residual plot to look like if the line fit the data well? (1 point)\n",
    "\n",
    "* ``` I expected these residuals not to be curved because a curve means that the residual velocities will be negative for a given interval of distances and positive for others. That said, I expect to see negative and positive residual velocities that are uniformily distributed in all distances. This makes it possible for all the points to have the same or close slope(Hubble Constant).```"
   ]
  },
  {
   "cell_type": "markdown",
   "metadata": {},
   "source": [
    "It looks like we need some sort of curved function. What we can do is use a 2nd or 3rd order polynomial instead of just a 1st order.\n",
    "Yes, and then the derivative of the polynomial at everypoint is Hubble's constant.  That's pretty fun!  \n",
    "\n",
    "So now, going back to the whole data set, fit the whole data set to a 2nd order polynomial (by changing one number in the call to polyfit).  Also plot the fitted curve as you did before. \n",
    "\n",
    "Hint: This should require 2 changes to your previous code, and zero additional lines of code. The most significant adjustment will be in the calculation of \"fitted\\_velocity.\" No more than 6 lines of code here."
   ]
  },
  {
   "cell_type": "code",
   "execution_count": 20,
   "metadata": {},
   "outputs": [
    {
     "data": {
      "text/plain": [
       "Text(0,0.5,'velocity(km/sec)')"
      ]
     },
     "execution_count": 20,
     "metadata": {},
     "output_type": "execute_result"
    },
    {
     "data": {
      "image/png": "[encoded data removed]",
      "text/plain": [
       "<matplotlib.figure.Figure at 0x7f07d4492978>"
      ]
     },
     "metadata": {},
     "output_type": "display_data"
    }
   ],
   "source": [
    "#(26) Fit the supernovae data to a 2nd order polynomial and plot the fitted curve on top of the data.( 5 points)\n",
    "p = np.polyfit(d, velocity, 2)  #2nd order polynomial \n",
    "second_fitted_velocity=p[0]*(d**2) + p[1]*d + p[2] #fit line equation\n",
    "plt.plot(d, velocity, \".\")                #ploting velocity vs distance using dots\n",
    "plt.plot(d, second_fitted_velocity, \".\")  #ploting best fit line\n",
    "plt.xlabel(\"distance (Mpc)\")              #labeling x-xis\n",
    "plt.ylabel(\"velocity(km/sec)\")            #labeling y-axis"
   ]
  },
  {
   "cell_type": "markdown",
   "metadata": {},
   "source": [
    "How do you think the residuals will look now?  First jot some notes to yourself on a piece of paper and then plot them below."
   ]
  },
  {
   "cell_type": "code",
   "execution_count": 21,
   "metadata": {},
   "outputs": [
    {
     "data": {
      "text/plain": [
       "Text(0,0.5,'residuals velocity(km/sec)')"
      ]
     },
     "execution_count": 21,
     "metadata": {},
     "output_type": "execute_result"
    },
    {
     "data": {
      "image/png": "[encoded data removed]",
      "text/plain": [
       "<matplotlib.figure.Figure at 0x7f07d45a10b8>"
      ]
     },
     "metadata": {},
     "output_type": "display_data"
    }
   ],
   "source": [
    "#(27)  Plot residual velocity vs distance.(4 points)\n",
    "second_fitted_velocity=p[0]*(d**2) + p[1]*d + p[2] #fit line equation\n",
    "residuals=velocity-second_fitted_velocity  #calculating residuals\n",
    "#plt.plot(d, velocity, \".\")                #ploting velocity vs distance using dots\n",
    "plt.plot(d, residuals, \".\")                #ploting distance vs residuals\n",
    "plt.xlabel(\"distance (Mpc)\")               #labeling x-xis\n",
    "plt.ylabel(\"residuals velocity(km/sec)\")   #labeling y-axis"
   ]
  },
  {
   "cell_type": "markdown",
   "metadata": {},
   "source": [
    "#(28) Do they look different from what you expected?  How or how not? (2 points)\n",
    "* ``` It is slightly different from what I expected. I expected to see uniform distribution of positive and negative residual velocities on all distances, such that, the number of negative residual velocities equals to that of positive residual velocities on all distance intervals. For this plot, the residual velocities for distances from 10000Mpc to 12000Mpc are mainly positive while those from 0Mpc to 500Mpc are mainly negative. Therefore, these model doesn't fit the data well. ```"
   ]
  },
  {
   "cell_type": "markdown",
   "metadata": {},
   "source": [
    "#(29) Based on the residuals, would you say the model fits the data well?  Why or why not? (1 point)\n",
    "* ```No, the model doesn't fit the data well. For larger distances from 10000Mpc to 12000Mpc, the residual velocites are mainly positive. However, for distances from 0Mpc to 500Mpc, the residual velocites are mainly negative. Therefore, the residual velocities are not uniformly distributed in all the distance intervals. As a result, this model does not fits the data well for all the distance intervals.```"
   ]
  },
  {
   "cell_type": "markdown",
   "metadata": {},
   "source": [
    "Let's try a 3rd order polynomial. Again, plot the whole range of data, and show your fitted 3rd order polynomial on top of it. _No more than 6 lines of code, including axis labels._"
   ]
  },
  {
   "cell_type": "code",
   "execution_count": 22,
   "metadata": {},
   "outputs": [
    {
     "data": {
      "text/plain": [
       "Text(0,0.5,'velocity(km/sec)')"
      ]
     },
     "execution_count": 22,
     "metadata": {},
     "output_type": "execute_result"
    },
    {
     "data": {
      "image/png": "[encoded data removed]",
      "text/plain": [
       "<matplotlib.figure.Figure at 0x7f07d4465390>"
      ]
     },
     "metadata": {},
     "output_type": "display_data"
    }
   ],
   "source": [
    "#(30) Fit 3rd order polynomial and again overplot the fit on the data. (5 points)\n",
    "p = np.polyfit(d, velocity, 3)\n",
    "third_fitted_velocity=p[0]*(d**3) + p[1]*(d**2) + p[2]*d+ p[3] #fit line equation\n",
    "plt.plot(d, velocity, \".\")          #ploting velocity vs distance using dots\n",
    "plt.plot(d, third_fitted_velocity, \".\")  #ploting best fit line\n",
    "plt.xlabel(\"distance (Mpc)\")        #labeling x-xis\n",
    "plt.ylabel(\"velocity(km/sec)\")      #labeling y-axis"
   ]
  },
  {
   "cell_type": "markdown",
   "metadata": {},
   "source": [
    "Did you notice that the 3rd order polynomial does a better job of taking care of the data at large distance?  (rhetorical question). Please again plot the velocity residuals."
   ]
  },
  {
   "cell_type": "code",
   "execution_count": 23,
   "metadata": {},
   "outputs": [
    {
     "data": {
      "text/plain": [
       "Text(0,0.5,'residual velocity(km/sec)')"
      ]
     },
     "execution_count": 23,
     "metadata": {},
     "output_type": "execute_result"
    },
    {
     "data": {
      "image/png": "[encoded data removed]",
      "text/plain": [
       "<matplotlib.figure.Figure at 0x7f07d4365f60>"
      ]
     },
     "metadata": {},
     "output_type": "display_data"
    }
   ],
   "source": [
    "#(31) Plot the residuals (residual velocity vs distance) (4 points)\n",
    "third_fitted_velocity=p[0]*(d**3) + p[1]*(d**2) + p[2]*d + p[3] #fit line equation\n",
    "residuals=velocity-third_fitted_velocity   #calculating residuals\n",
    "#plt.plot(d, velocity, \".\")             #ploting velocity vs distance using dots\n",
    "plt.plot(d, residuals, \".\")             #ploting distance vs residuals\n",
    "plt.xlabel(\"distance (Mpc)\")            #labeling x-xis\n",
    "plt.ylabel(\"residual velocity(km/sec)\") #labeling y-axis"
   ]
  },
  {
   "cell_type": "markdown",
   "metadata": {},
   "source": [
    "#(32) Comment on whether those residuals indicate that this model is a better fit to the data.(1 point)\n",
    "* ``` Yes, these residual indicate that this model is a better fit to the data. Residual velocities are distributed uniformly in all distance intervals. On all distances, the number of positive and negative residual velocities appear to be equal. This means that if you draw a fit line, the line will fit in well to the data.```"
   ]
  },
  {
   "cell_type": "markdown",
   "metadata": {},
   "source": [
    "As we talked about in class, we now have an equation that tells us the relationship between velocity and distance anywhere in the universe. The equation is:\n",
    "$$\n",
    "velocity = p[0]D^3 + p[1]D^2 + p[2]D + p[3]\n",
    "$$\n",
    "where $p$ is the array of parameters that the polyfit function returned.\n",
    "\n",
    "The tangent to that function is Hubble's \"constant\" anywhere in the universe.  Please recall that the tangent to any function is its derivative.\n",
    "\n",
    "One fun thing about a polynomial is that you can easily take the derivative of it.\n",
    "\n",
    "In the cell below, write the derivative of velocity.  I've started it for you, but you need to finish it.  Feel free to ask me or Dave or TAs for a reminder about derivative rules.\n"
   ]
  },
  {
   "cell_type": "markdown",
   "metadata": {},
   "source": [
    "$$\n",
    "\\frac{dv}{dD} = 3p[0]D^2 + \n",
    "$$"
   ]
  },
  {
   "cell_type": "markdown",
   "metadata": {},
   "source": [
    "#(33) (Your answer for derivative of velocity here.) (2 points)\n",
    "* ```The derivative is```$$ \\frac{dv}{dD}= 3p[0]D^2 + 2p[1]D +p[2]$$"
   ]
  },
  {
   "cell_type": "markdown",
   "metadata": {},
   "source": [
    "So that function $\\frac{dv}{dD}$ that you wrote out above is actually the value of Hubble's \"constant\" anywhere in the universe.   Call it H (for Hubble) and plot H as a function of D.  You already know what you expect it to look like vaguely, right?  It should be larger for small distances, and smaller for large distances.  Make sure to label the axes of your plots with the appropriate units. _Hint: This should only take 4 lines of code, including axis labels._"
   ]
  },
  {
   "cell_type": "code",
   "execution_count": 24,
   "metadata": {},
   "outputs": [
    {
     "data": {
      "text/plain": [
       "Text(0,0.5,'Hubble constant(km/s per Mpc)')"
      ]
     },
     "execution_count": 24,
     "metadata": {},
     "output_type": "execute_result"
    },
    {
     "data": {
      "image/png": "[encoded data removed]",
      "text/plain": [
       "<matplotlib.figure.Figure at 0x7f07d43ff470>"
      ]
     },
     "metadata": {},
     "output_type": "display_data"
    }
   ],
   "source": [
    "#(34) Plot Hubble's constant vs distance. (3 points)\n",
    "H=3*p[0]*(d**2) + 2*p[1]*d + p[2]              #creating hubble variable \n",
    "plt.plot(d, H, \".\")                            #ploting hubble vs distance\n",
    "plt.xlabel(\"distance(Mpc)\")                    #labeling the x-axis\n",
    "plt.ylabel(\"Hubble constant(km/s per Mpc)\")    #labeling the y-axis"
   ]
  },
  {
   "cell_type": "markdown",
   "metadata": {},
   "source": [
    "That's an awesome plot!!   Before I make you comment on it, let's put the x-axis into some more useful units. Instead of distance, astronomers like to think in terms of \"look-back time\".  In other words, how far back in time are we looking when we look at 8000 Mpc\n",
    "(for example)?  This turns out to be more complicated that just converting distances into light years, because of the expanding and accelerating universe. There's a library called \"astropy\" that we can use to do this work for us. It turns out that in order to calculate lookback time you have to choose which version of the universe you believe.  For our purposes we will choose the parameters determined by Planck13.  Planck is a satellite that measured the temperature and polarization of the Cosmic Microwave Background. \n",
    "\n",
    "http://docs.astropy.org/en/stable/cosmology/\n",
    "\n",
    "(You don't necessarily need to look at that page, but I include it in case you are curious.)\n",
    "\n",
    "First import the library:"
   ]
  },
  {
   "cell_type": "code",
   "execution_count": 25,
   "metadata": {},
   "outputs": [
    {
     "data": {
      "text/latex": [
       "$10.511841 \\; \\mathrm{Gyr}$"
      ],
      "text/plain": [
       "<Quantity 10.51184138 Gyr>"
      ]
     },
     "execution_count": 25,
     "metadata": {},
     "output_type": "execute_result"
    }
   ],
   "source": [
    "from astropy.cosmology import Planck13  # Planck 2013\n",
    "from astropy import units as u # a pretty fancy way\n",
    "# keeping track of units\n",
    "from astropy.cosmology import z_at_value\n",
    "# And here is how you calculate the lookback time at \n",
    "# redshift 2\n",
    "Planck13.lookback_time(2)"
   ]
  },
  {
   "cell_type": "markdown",
   "metadata": {},
   "source": [
    "So the answer above says that at a redshift of 2 the lookback time is 10.5 Gyr (or 10.5 billion years.) The universe is only 14 billion years old, so this is most of the way back."
   ]
  },
  {
   "cell_type": "code",
   "execution_count": 26,
   "metadata": {},
   "outputs": [],
   "source": [
    "# Now we need to find the value of the redshift z at each of \n",
    "# our distance moduli, allSN.mu.\n",
    "# I included all this here in case you're interested, but feel\n",
    "# free to skip to the last line of this cell where I calculate\n",
    "# the lookback time for each of our supernovae.\n",
    "\n",
    "# To do this I'm using a linear interpolation function \n",
    "# using suggestions I found here:\n",
    "# https://het.as.utexas.edu/HET/Software/Astropy-0.4.2/...\n",
    "#          api/astropy.cosmology.z_at_value.html\n",
    "\n",
    "# Create a grid of z's logarithmically distributed\n",
    "# that covers the redshift range from 0.02 to 2\n",
    "zgrid = np.logspace(np.log10(0.02), np.log10(2))\n",
    "# Calculate all the distance moduli for all the z's in the grid\n",
    "Dgrid = Planck13.distmod(zgrid)\n",
    "# Finally interpolate to find the redshift at each distance modulus:\n",
    "zvals = np.interp(allSN.mu, Dgrid.value, zgrid)\n",
    "# Now to find the lookback time, we put those \n",
    "# redshift values into\n",
    "# the lookback_time attribute of our chosen cosmology\n",
    "lookback = Planck13.lookback_time(zvals)"
   ]
  },
  {
   "cell_type": "markdown",
   "metadata": {},
   "source": [
    "And now make the sample plot as above, but this time plot Hubble's \"constant\" vs lookback time. Be sure to label your axes, including units. (3 lines of code, including axis labels.)  For lookback time just use \"lookback\" because I set it up for you already in the cell above, i.e. you don't have to calculate it. "
   ]
  },
  {
   "cell_type": "code",
   "execution_count": 27,
   "metadata": {},
   "outputs": [
    {
     "data": {
      "text/plain": [
       "Text(0,0.5,'Hubble constant(km/s per Mpc)')"
      ]
     },
     "execution_count": 27,
     "metadata": {},
     "output_type": "execute_result"
    },
    {
     "data": {
      "image/png": "[encoded data removed]",
      "text/plain": [
       "<matplotlib.figure.Figure at 0x7f07d4489550>"
      ]
     },
     "metadata": {},
     "output_type": "display_data"
    }
   ],
   "source": [
    "#(35) Plot Hubble's constant vs lookback time.  (2 points)\n",
    "plt.plot(lookback, H, \".\")                   #ploting lookback vs hubble\n",
    "plt.xlabel(\"lookback time(Gyr)\")             #labeling the x-axis\n",
    "plt.ylabel(\"Hubble constant(km/s per Mpc)\")  #labeling the y-axis"
   ]
  },
  {
   "cell_type": "markdown",
   "metadata": {},
   "source": [
    "#(36) Based on your graph, what was Hubble's constant (with appropriate units) 2 billion years ago? 6 billion years ago?  10 billion years ago? (3 points)\n",
    "* ``` 2 billions years is  43 km/s per Mpc ```\n",
    "* ``` 6 billions years is  20 km/s per Mpc ```\n",
    "* ``` 10 billions years- there is no value of Hubble constant on the graph that corresponds to 10 billion years. This means that hubble constant was very small at this time and was not measured.```"
   ]
  },
  {
   "cell_type": "markdown",
   "metadata": {},
   "source": [
    "Here's a good question that you might have:\n",
    "\n",
    "Why didn't we just use our redshift values from the table to find the lookback time?\n",
    "\n",
    "You can do that!  You just say:\n",
    "\n",
    "lookback = Planck13.lookback_time(allSN.redshift)\n",
    "\n",
    "Feel free to try that, but I'm not assigning it.\n",
    "\n",
    "It turns out this gives a much more scattered plot than the way we just did it - by using the distance moduli to get the lookback\n",
    "time.  In other words, our distance measurements are more accurate than our redshift measurements, so it was better to base lookback time on distance."
   ]
  },
  {
   "cell_type": "code",
   "execution_count": 28,
   "metadata": {},
   "outputs": [
    {
     "data": {
      "text/plain": [
       "Text(0,0.5,'Hubble constant(km/s/Gyr)')"
      ]
     },
     "execution_count": 28,
     "metadata": {},
     "output_type": "execute_result"
    },
    {
     "data": {
      "image/png": "[encoded data removed]",
      "text/plain": [
       "<matplotlib.figure.Figure at 0x7f071ee72240>"
      ]
     },
     "metadata": {},
     "output_type": "display_data"
    }
   ],
   "source": [
    "newlookback=Planck13.lookback_time(allSN.redshift)\n",
    "plt.plot(newlookback, H, \".\")\n",
    "plt.xlabel(\"lookback time(Gyr)\")\n",
    "plt.ylabel(\"Hubble constant(km/s/Gyr)\")"
   ]
  },
  {
   "cell_type": "markdown",
   "metadata": {},
   "source": [
    "## Caveats\n",
    "We swept some things under the rug in order to keep this lab from going off the rails. (Sorry for mixing metaphors.)\n",
    "\n",
    "- Now that we know that Hubble's 'constant' is changing, it turns out that we actually needed to do an integral to get the distance:\n",
    "\n",
    "$$\n",
    "d= c(1 + z)\\int_0^z \\frac{du}{H(u)}\n",
    "$$\n",
    "\n",
    "Using that expression for distance would subsequently change the value of Hubble's \"constant\" significantly in the early universe. Our analysis showed that it changed by almost a factor of 10. In more rigorous calculations it only changes by about a factor of 2. However, the calculation we did maintains the character of the effect very well.\n",
    "\n",
    "- You may have noticed that we didn't even get the accepted value of the current Hubble's constant correct. It is about 70 km/sec per Mpc right now. (There's actually a controversy over whether it's 68 or 72 km/sec per Mpc. From looking at supernovae (as we did here) researchers get 72 km/sec per Mpc.  From looking at the anisotropy in the microwave background researchers get 68 km/sec per Mpc.)  The reason we didn't get 70 km/sec is that Riess and colleagues don't care about the intrinsic brightness of the supernovae they are using as standard candles. In other words, even though they are using a standard candle to do all this analysis, the actual brightness of the standard candle doesn't enter into their calculations. So toward the beginning of the lab when I wrote the relationship between distance and distance modulus, \n",
    "$$\n",
    "d = 10^{\\frac{\\mu_0}{5} + 1}\n",
    "$$\n",
    "the $\\mu_0$ has an arbitrary but constant offset in it. Feel free to play around with this and see how it changes your values of Hubble's constant. (Just for fun. Not required.) I found that adding -.75 to $\\mu_0$ got me closer to the modern value of Hubble's constant."
   ]
  },
  {
   "cell_type": "markdown",
   "metadata": {},
   "source": [
    "## Three last very important questions\n",
    "Sometimes doing labs with a lot of challenging instructions like this one, you lose the forest for the trees.  Take a moment and try to see the forest and write it down here.  More specifically, answer these questions:\n",
    "(2 points each)\n",
    "- Why are supernovae useful for measuring the history of our universe?\n",
    "- What is Hubble's law, and what does it mean that we measured the \"constant\" to be changing over time?\n",
    "- Explain in words why we fit a plot of velocity vs distance to a polynomial, and then took the derivative of that polynomial to find Hubble's 'constant' as a function of time."
   ]
  },
  {
   "cell_type": "markdown",
   "metadata": {},
   "source": [
    "#(37) The three questions above (2 points for each question, so 6 points total)\n",
    "\n",
    "**Question 1**\n",
    "* ```As you look at farther supernovae, the value of the hubble constant is decreasing. Towards nearer supernovae(small distances), hubble constant is increasing. At the same time, if you lookback at time, the value of hubble constant is smaller for farther billion years but larger for nearer billion years. Therefore, supernovae(distances) has been increasing with time. This shows that the universe has been expanding with time. As time goes by, the universe continue to expand hence the distance(supernovae)increases. As a results the hubble constant descreases. That said, supernovae are realy useful in measuring how the universe has been expanding over the years.```     \n",
    "\n",
    "**Question 2**\n",
    "* ```Hubble's law is the observation in cosmology that galaxies are moving away from the Earth at a velocity which is proportional to their distance. That is, a galaxy which is farther away from the earth is moving at its fastest velocity. Hubble constant is the slope of velocity kms/s vs distance (Mpc). As time goes by, the universe has been expanding which causes and increase in distance. Since Hubble constant depends on both velocity and distance, it will change when these variables change. This illustrates why the constant has been changing over time.```\n",
    "\n",
    "**Question 3**\n",
    "* ```Hubble constant is measured in kms/s per Mpc and it's the slope of velocity (km/s) vs distance(Mpc). Fitting a line to this data results to a more accurate slope for the data which is hubble constant. Again, it is hard to calculate a slope when the data is large and distributed in different positions hence ploting a fit line eases this calculation. Hubble constant is also the derivative of a polynomial where velocity is the dependent variable(y) and distance is the independent variable(x). Since the universe has been expanding with time, both distance and time has been increasing. Therefore, the relationship between distance and Hubble constant is the same as that for time and Hubble constant. Same as distance, hubble constant is smaller for longer time and larger for shorter time. This illustrates why hubble constant was plotted against time.```"
   ]
  },
  {
   "cell_type": "markdown",
   "metadata": {},
   "source": [
    "# Congratulations\n",
    "You have finished lab #4. You have really learned a lot of astronomy and a lot of programming. If it seems like your brain hurts that's because it's growing. "
   ]
  }
 ],
 "metadata": {
  "kernelspec": {
   "display_name": "Python 3",
   "language": "python",
   "name": "python3"
  },
  "language_info": {
   "codemirror_mode": {
    "name": "ipython",
    "version": 3
   },
   "file_extension": ".py",
   "mimetype": "text/x-python",
   "name": "python",
   "nbconvert_exporter": "python",
   "pygments_lexer": "ipython3",
   "version": "3.5.2"
  }
 },
 "nbformat": 4,
 "nbformat_minor": 2
}
